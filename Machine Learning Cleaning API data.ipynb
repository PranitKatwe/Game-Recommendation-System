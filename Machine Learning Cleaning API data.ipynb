{
 "cells": [
  {
   "cell_type": "code",
   "execution_count": 93,
   "id": "bba8a648",
   "metadata": {},
   "outputs": [],
   "source": [
    "import pandas as pd\n",
    "import numpy as np\n",
    "import matplotlib.pyplot as plt\n",
    "import seaborn as sns"
   ]
  },
  {
   "cell_type": "code",
   "execution_count": 94,
   "id": "9cf25c6e",
   "metadata": {},
   "outputs": [
    {
     "data": {
      "text/html": [
       "<div>\n",
       "<style scoped>\n",
       "    .dataframe tbody tr th:only-of-type {\n",
       "        vertical-align: middle;\n",
       "    }\n",
       "\n",
       "    .dataframe tbody tr th {\n",
       "        vertical-align: top;\n",
       "    }\n",
       "\n",
       "    .dataframe thead th {\n",
       "        text-align: right;\n",
       "    }\n",
       "</style>\n",
       "<table border=\"1\" class=\"dataframe\">\n",
       "  <thead>\n",
       "    <tr style=\"text-align: right;\">\n",
       "      <th></th>\n",
       "      <th>type</th>\n",
       "      <th>name</th>\n",
       "      <th>steam_appid</th>\n",
       "      <th>required_age</th>\n",
       "      <th>is_free</th>\n",
       "      <th>controller_support</th>\n",
       "      <th>dlc</th>\n",
       "      <th>detailed_description</th>\n",
       "      <th>about_the_game</th>\n",
       "      <th>short_description</th>\n",
       "      <th>...</th>\n",
       "      <th>categories</th>\n",
       "      <th>genres</th>\n",
       "      <th>screenshots</th>\n",
       "      <th>movies</th>\n",
       "      <th>recommendations</th>\n",
       "      <th>achievements</th>\n",
       "      <th>release_date</th>\n",
       "      <th>support_info</th>\n",
       "      <th>background</th>\n",
       "      <th>content_descriptors</th>\n",
       "    </tr>\n",
       "  </thead>\n",
       "  <tbody>\n",
       "    <tr>\n",
       "      <th>0</th>\n",
       "      <td>game</td>\n",
       "      <td>Counter-Strike</td>\n",
       "      <td>10</td>\n",
       "      <td>0.0</td>\n",
       "      <td>False</td>\n",
       "      <td>NaN</td>\n",
       "      <td>NaN</td>\n",
       "      <td>Play the world's number 1 online action game. ...</td>\n",
       "      <td>Play the world's number 1 online action game. ...</td>\n",
       "      <td>Play the world's number 1 online action game. ...</td>\n",
       "      <td>...</td>\n",
       "      <td>[{'id': 1, 'description': 'Multi-player'}, {'i...</td>\n",
       "      <td>[{'id': '1', 'description': 'Action'}]</td>\n",
       "      <td>[{'id': 0, 'path_thumbnail': 'https://steamcdn...</td>\n",
       "      <td>NaN</td>\n",
       "      <td>{'total': 65735}</td>\n",
       "      <td>{'total': 0}</td>\n",
       "      <td>{'coming_soon': False, 'date': '1 Nov, 2000'}</td>\n",
       "      <td>{'url': 'http://steamcommunity.com/app/10', 'e...</td>\n",
       "      <td>https://steamcdn-a.akamaihd.net/steam/apps/10/...</td>\n",
       "      <td>{'ids': [2, 5], 'notes': 'Includes intense vio...</td>\n",
       "    </tr>\n",
       "    <tr>\n",
       "      <th>1</th>\n",
       "      <td>game</td>\n",
       "      <td>Team Fortress Classic</td>\n",
       "      <td>20</td>\n",
       "      <td>0.0</td>\n",
       "      <td>False</td>\n",
       "      <td>NaN</td>\n",
       "      <td>NaN</td>\n",
       "      <td>One of the most popular online action games of...</td>\n",
       "      <td>One of the most popular online action games of...</td>\n",
       "      <td>One of the most popular online action games of...</td>\n",
       "      <td>...</td>\n",
       "      <td>[{'id': 1, 'description': 'Multi-player'}, {'i...</td>\n",
       "      <td>[{'id': '1', 'description': 'Action'}]</td>\n",
       "      <td>[{'id': 0, 'path_thumbnail': 'https://steamcdn...</td>\n",
       "      <td>NaN</td>\n",
       "      <td>{'total': 2802}</td>\n",
       "      <td>{'total': 0}</td>\n",
       "      <td>{'coming_soon': False, 'date': '1 Apr, 1999'}</td>\n",
       "      <td>{'url': '', 'email': ''}</td>\n",
       "      <td>https://steamcdn-a.akamaihd.net/steam/apps/20/...</td>\n",
       "      <td>{'ids': [2, 5], 'notes': 'Includes intense vio...</td>\n",
       "    </tr>\n",
       "    <tr>\n",
       "      <th>2</th>\n",
       "      <td>game</td>\n",
       "      <td>Day of Defeat</td>\n",
       "      <td>30</td>\n",
       "      <td>0.0</td>\n",
       "      <td>False</td>\n",
       "      <td>NaN</td>\n",
       "      <td>NaN</td>\n",
       "      <td>Enlist in an intense brand of Axis vs. Allied ...</td>\n",
       "      <td>Enlist in an intense brand of Axis vs. Allied ...</td>\n",
       "      <td>Enlist in an intense brand of Axis vs. Allied ...</td>\n",
       "      <td>...</td>\n",
       "      <td>[{'id': 1, 'description': 'Multi-player'}, {'i...</td>\n",
       "      <td>[{'id': '1', 'description': 'Action'}]</td>\n",
       "      <td>[{'id': 0, 'path_thumbnail': 'https://steamcdn...</td>\n",
       "      <td>NaN</td>\n",
       "      <td>{'total': 1992}</td>\n",
       "      <td>{'total': 0}</td>\n",
       "      <td>{'coming_soon': False, 'date': '1 May, 2003'}</td>\n",
       "      <td>{'url': '', 'email': ''}</td>\n",
       "      <td>https://steamcdn-a.akamaihd.net/steam/apps/30/...</td>\n",
       "      <td>{'ids': [], 'notes': None}</td>\n",
       "    </tr>\n",
       "    <tr>\n",
       "      <th>3</th>\n",
       "      <td>game</td>\n",
       "      <td>Deathmatch Classic</td>\n",
       "      <td>40</td>\n",
       "      <td>0.0</td>\n",
       "      <td>False</td>\n",
       "      <td>NaN</td>\n",
       "      <td>NaN</td>\n",
       "      <td>Enjoy fast-paced multiplayer gaming with Death...</td>\n",
       "      <td>Enjoy fast-paced multiplayer gaming with Death...</td>\n",
       "      <td>Enjoy fast-paced multiplayer gaming with Death...</td>\n",
       "      <td>...</td>\n",
       "      <td>[{'id': 1, 'description': 'Multi-player'}, {'i...</td>\n",
       "      <td>[{'id': '1', 'description': 'Action'}]</td>\n",
       "      <td>[{'id': 0, 'path_thumbnail': 'https://steamcdn...</td>\n",
       "      <td>NaN</td>\n",
       "      <td>{'total': 931}</td>\n",
       "      <td>{'total': 0}</td>\n",
       "      <td>{'coming_soon': False, 'date': '1 Jun, 2001'}</td>\n",
       "      <td>{'url': '', 'email': ''}</td>\n",
       "      <td>https://steamcdn-a.akamaihd.net/steam/apps/40/...</td>\n",
       "      <td>{'ids': [], 'notes': None}</td>\n",
       "    </tr>\n",
       "    <tr>\n",
       "      <th>4</th>\n",
       "      <td>game</td>\n",
       "      <td>Half-Life: Opposing Force</td>\n",
       "      <td>50</td>\n",
       "      <td>0.0</td>\n",
       "      <td>False</td>\n",
       "      <td>NaN</td>\n",
       "      <td>NaN</td>\n",
       "      <td>Return to the Black Mesa Research Facility as ...</td>\n",
       "      <td>Return to the Black Mesa Research Facility as ...</td>\n",
       "      <td>Return to the Black Mesa Research Facility as ...</td>\n",
       "      <td>...</td>\n",
       "      <td>[{'id': 2, 'description': 'Single-player'}, {'...</td>\n",
       "      <td>[{'id': '1', 'description': 'Action'}]</td>\n",
       "      <td>[{'id': 0, 'path_thumbnail': 'https://steamcdn...</td>\n",
       "      <td>NaN</td>\n",
       "      <td>{'total': 4355}</td>\n",
       "      <td>{'total': 0}</td>\n",
       "      <td>{'coming_soon': False, 'date': '1 Nov, 1999'}</td>\n",
       "      <td>{'url': 'https://help.steampowered.com', 'emai...</td>\n",
       "      <td>https://steamcdn-a.akamaihd.net/steam/apps/50/...</td>\n",
       "      <td>{'ids': [], 'notes': None}</td>\n",
       "    </tr>\n",
       "    <tr>\n",
       "      <th>...</th>\n",
       "      <td>...</td>\n",
       "      <td>...</td>\n",
       "      <td>...</td>\n",
       "      <td>...</td>\n",
       "      <td>...</td>\n",
       "      <td>...</td>\n",
       "      <td>...</td>\n",
       "      <td>...</td>\n",
       "      <td>...</td>\n",
       "      <td>...</td>\n",
       "      <td>...</td>\n",
       "      <td>...</td>\n",
       "      <td>...</td>\n",
       "      <td>...</td>\n",
       "      <td>...</td>\n",
       "      <td>...</td>\n",
       "      <td>...</td>\n",
       "      <td>...</td>\n",
       "      <td>...</td>\n",
       "      <td>...</td>\n",
       "      <td>...</td>\n",
       "    </tr>\n",
       "    <tr>\n",
       "      <th>29230</th>\n",
       "      <td>game</td>\n",
       "      <td>Room of Pandora</td>\n",
       "      <td>1065230</td>\n",
       "      <td>0.0</td>\n",
       "      <td>False</td>\n",
       "      <td>NaN</td>\n",
       "      <td>NaN</td>\n",
       "      <td>&lt;img src=\"https://steamcdn-a.akamaihd.net/stea...</td>\n",
       "      <td>&lt;img src=\"https://steamcdn-a.akamaihd.net/stea...</td>\n",
       "      <td>The Room of Pandora is a third-person interact...</td>\n",
       "      <td>...</td>\n",
       "      <td>[{'id': 2, 'description': 'Single-player'}, {'...</td>\n",
       "      <td>[{'id': '25', 'description': 'Adventure'}, {'i...</td>\n",
       "      <td>[{'id': 0, 'path_thumbnail': 'https://steamcdn...</td>\n",
       "      <td>[{'id': 256747452, 'name': 'Video', 'thumbnail...</td>\n",
       "      <td>NaN</td>\n",
       "      <td>{'total': 7, 'highlighted': [{'name': 'THE FIR...</td>\n",
       "      <td>{'coming_soon': False, 'date': '24 Apr, 2019'}</td>\n",
       "      <td>{'url': 'https://goldlogsh.wixsite.com/myapps'...</td>\n",
       "      <td>https://steamcdn-a.akamaihd.net/steam/apps/106...</td>\n",
       "      <td>{'ids': [], 'notes': None}</td>\n",
       "    </tr>\n",
       "    <tr>\n",
       "      <th>29231</th>\n",
       "      <td>game</td>\n",
       "      <td>Cyber Gun</td>\n",
       "      <td>1065570</td>\n",
       "      <td>0.0</td>\n",
       "      <td>False</td>\n",
       "      <td>NaN</td>\n",
       "      <td>NaN</td>\n",
       "      <td>Have you ever been so lonely that no one but y...</td>\n",
       "      <td>Have you ever been so lonely that no one but y...</td>\n",
       "      <td>Cyber Gun is a hardcore first-person shooter w...</td>\n",
       "      <td>...</td>\n",
       "      <td>[{'id': 2, 'description': 'Single-player'}]</td>\n",
       "      <td>[{'id': '1', 'description': 'Action'}, {'id': ...</td>\n",
       "      <td>[{'id': 0, 'path_thumbnail': 'https://steamcdn...</td>\n",
       "      <td>[{'id': 256747487, 'name': 'Game Trailer', 'th...</td>\n",
       "      <td>NaN</td>\n",
       "      <td>NaN</td>\n",
       "      <td>{'coming_soon': False, 'date': '23 Apr, 2019'}</td>\n",
       "      <td>{'url': '', 'email': 'piziroggg@gmail.com'}</td>\n",
       "      <td>https://steamcdn-a.akamaihd.net/steam/apps/106...</td>\n",
       "      <td>{'ids': [], 'notes': None}</td>\n",
       "    </tr>\n",
       "    <tr>\n",
       "      <th>29232</th>\n",
       "      <td>game</td>\n",
       "      <td>Super Star Blast</td>\n",
       "      <td>1065650</td>\n",
       "      <td>0.0</td>\n",
       "      <td>False</td>\n",
       "      <td>full</td>\n",
       "      <td>NaN</td>\n",
       "      <td>&lt;strong&gt;Super Star Blast &lt;/strong&gt;is a space b...</td>\n",
       "      <td>&lt;strong&gt;Super Star Blast &lt;/strong&gt;is a space b...</td>\n",
       "      <td>Super Star Blast is a space based game with ch...</td>\n",
       "      <td>...</td>\n",
       "      <td>[{'id': 2, 'description': 'Single-player'}, {'...</td>\n",
       "      <td>[{'id': '1', 'description': 'Action'}, {'id': ...</td>\n",
       "      <td>[{'id': 0, 'path_thumbnail': 'https://steamcdn...</td>\n",
       "      <td>[{'id': 256747530, 'name': 'Gameplay Trailer',...</td>\n",
       "      <td>NaN</td>\n",
       "      <td>{'total': 24, 'highlighted': [{'name': 'Power ...</td>\n",
       "      <td>{'coming_soon': False, 'date': '24 Apr, 2019'}</td>\n",
       "      <td>{'url': 'http://www.entwickler-x.de', 'email':...</td>\n",
       "      <td>https://steamcdn-a.akamaihd.net/steam/apps/106...</td>\n",
       "      <td>{'ids': [], 'notes': None}</td>\n",
       "    </tr>\n",
       "    <tr>\n",
       "      <th>29233</th>\n",
       "      <td>game</td>\n",
       "      <td>New Yankee 7: Deer Hunters</td>\n",
       "      <td>1066700</td>\n",
       "      <td>0.0</td>\n",
       "      <td>False</td>\n",
       "      <td>NaN</td>\n",
       "      <td>NaN</td>\n",
       "      <td>Pursue a snow-white deer through an enchanted ...</td>\n",
       "      <td>Pursue a snow-white deer through an enchanted ...</td>\n",
       "      <td>Pursue a snow-white deer through an enchanted ...</td>\n",
       "      <td>...</td>\n",
       "      <td>[{'id': 2, 'description': 'Single-player'}, {'...</td>\n",
       "      <td>[{'id': '25', 'description': 'Adventure'}, {'i...</td>\n",
       "      <td>[{'id': 0, 'path_thumbnail': 'https://steamcdn...</td>\n",
       "      <td>[{'id': 256747638, 'name': 'Main Trailer', 'th...</td>\n",
       "      <td>NaN</td>\n",
       "      <td>{'total': 0}</td>\n",
       "      <td>{'coming_soon': False, 'date': '17 Apr, 2019'}</td>\n",
       "      <td>{'url': 'http://www.alawar.com', 'email': 'ste...</td>\n",
       "      <td>https://steamcdn-a.akamaihd.net/steam/apps/106...</td>\n",
       "      <td>{'ids': [], 'notes': None}</td>\n",
       "    </tr>\n",
       "    <tr>\n",
       "      <th>29234</th>\n",
       "      <td>game</td>\n",
       "      <td>Rune Lord</td>\n",
       "      <td>1069460</td>\n",
       "      <td>0.0</td>\n",
       "      <td>False</td>\n",
       "      <td>NaN</td>\n",
       "      <td>NaN</td>\n",
       "      <td>A portal has opened and dark magic is pouring ...</td>\n",
       "      <td>A portal has opened and dark magic is pouring ...</td>\n",
       "      <td>A portal has opened and dark magic is pouring ...</td>\n",
       "      <td>...</td>\n",
       "      <td>[{'id': 2, 'description': 'Single-player'}, {'...</td>\n",
       "      <td>[{'id': '25', 'description': 'Adventure'}, {'i...</td>\n",
       "      <td>[{'id': 0, 'path_thumbnail': 'https://steamcdn...</td>\n",
       "      <td>[{'id': 256748098, 'name': 'Main Trailer', 'th...</td>\n",
       "      <td>NaN</td>\n",
       "      <td>{'total': 0}</td>\n",
       "      <td>{'coming_soon': False, 'date': '24 Apr, 2019'}</td>\n",
       "      <td>{'url': 'http://www.alawar.com', 'email': 'ste...</td>\n",
       "      <td>https://steamcdn-a.akamaihd.net/steam/apps/106...</td>\n",
       "      <td>{'ids': [], 'notes': None}</td>\n",
       "    </tr>\n",
       "  </tbody>\n",
       "</table>\n",
       "<p>29235 rows × 39 columns</p>\n",
       "</div>"
      ],
      "text/plain": [
       "       type                        name  steam_appid  required_age is_free  \\\n",
       "0      game              Counter-Strike           10           0.0   False   \n",
       "1      game       Team Fortress Classic           20           0.0   False   \n",
       "2      game               Day of Defeat           30           0.0   False   \n",
       "3      game          Deathmatch Classic           40           0.0   False   \n",
       "4      game   Half-Life: Opposing Force           50           0.0   False   \n",
       "...     ...                         ...          ...           ...     ...   \n",
       "29230  game             Room of Pandora      1065230           0.0   False   \n",
       "29231  game                   Cyber Gun      1065570           0.0   False   \n",
       "29232  game            Super Star Blast      1065650           0.0   False   \n",
       "29233  game  New Yankee 7: Deer Hunters      1066700           0.0   False   \n",
       "29234  game                   Rune Lord      1069460           0.0   False   \n",
       "\n",
       "      controller_support  dlc  \\\n",
       "0                    NaN  NaN   \n",
       "1                    NaN  NaN   \n",
       "2                    NaN  NaN   \n",
       "3                    NaN  NaN   \n",
       "4                    NaN  NaN   \n",
       "...                  ...  ...   \n",
       "29230                NaN  NaN   \n",
       "29231                NaN  NaN   \n",
       "29232               full  NaN   \n",
       "29233                NaN  NaN   \n",
       "29234                NaN  NaN   \n",
       "\n",
       "                                    detailed_description  \\\n",
       "0      Play the world's number 1 online action game. ...   \n",
       "1      One of the most popular online action games of...   \n",
       "2      Enlist in an intense brand of Axis vs. Allied ...   \n",
       "3      Enjoy fast-paced multiplayer gaming with Death...   \n",
       "4      Return to the Black Mesa Research Facility as ...   \n",
       "...                                                  ...   \n",
       "29230  <img src=\"https://steamcdn-a.akamaihd.net/stea...   \n",
       "29231  Have you ever been so lonely that no one but y...   \n",
       "29232  <strong>Super Star Blast </strong>is a space b...   \n",
       "29233  Pursue a snow-white deer through an enchanted ...   \n",
       "29234  A portal has opened and dark magic is pouring ...   \n",
       "\n",
       "                                          about_the_game  \\\n",
       "0      Play the world's number 1 online action game. ...   \n",
       "1      One of the most popular online action games of...   \n",
       "2      Enlist in an intense brand of Axis vs. Allied ...   \n",
       "3      Enjoy fast-paced multiplayer gaming with Death...   \n",
       "4      Return to the Black Mesa Research Facility as ...   \n",
       "...                                                  ...   \n",
       "29230  <img src=\"https://steamcdn-a.akamaihd.net/stea...   \n",
       "29231  Have you ever been so lonely that no one but y...   \n",
       "29232  <strong>Super Star Blast </strong>is a space b...   \n",
       "29233  Pursue a snow-white deer through an enchanted ...   \n",
       "29234  A portal has opened and dark magic is pouring ...   \n",
       "\n",
       "                                       short_description  ...  \\\n",
       "0      Play the world's number 1 online action game. ...  ...   \n",
       "1      One of the most popular online action games of...  ...   \n",
       "2      Enlist in an intense brand of Axis vs. Allied ...  ...   \n",
       "3      Enjoy fast-paced multiplayer gaming with Death...  ...   \n",
       "4      Return to the Black Mesa Research Facility as ...  ...   \n",
       "...                                                  ...  ...   \n",
       "29230  The Room of Pandora is a third-person interact...  ...   \n",
       "29231  Cyber Gun is a hardcore first-person shooter w...  ...   \n",
       "29232  Super Star Blast is a space based game with ch...  ...   \n",
       "29233  Pursue a snow-white deer through an enchanted ...  ...   \n",
       "29234  A portal has opened and dark magic is pouring ...  ...   \n",
       "\n",
       "                                              categories  \\\n",
       "0      [{'id': 1, 'description': 'Multi-player'}, {'i...   \n",
       "1      [{'id': 1, 'description': 'Multi-player'}, {'i...   \n",
       "2      [{'id': 1, 'description': 'Multi-player'}, {'i...   \n",
       "3      [{'id': 1, 'description': 'Multi-player'}, {'i...   \n",
       "4      [{'id': 2, 'description': 'Single-player'}, {'...   \n",
       "...                                                  ...   \n",
       "29230  [{'id': 2, 'description': 'Single-player'}, {'...   \n",
       "29231        [{'id': 2, 'description': 'Single-player'}]   \n",
       "29232  [{'id': 2, 'description': 'Single-player'}, {'...   \n",
       "29233  [{'id': 2, 'description': 'Single-player'}, {'...   \n",
       "29234  [{'id': 2, 'description': 'Single-player'}, {'...   \n",
       "\n",
       "                                                  genres  \\\n",
       "0                 [{'id': '1', 'description': 'Action'}]   \n",
       "1                 [{'id': '1', 'description': 'Action'}]   \n",
       "2                 [{'id': '1', 'description': 'Action'}]   \n",
       "3                 [{'id': '1', 'description': 'Action'}]   \n",
       "4                 [{'id': '1', 'description': 'Action'}]   \n",
       "...                                                  ...   \n",
       "29230  [{'id': '25', 'description': 'Adventure'}, {'i...   \n",
       "29231  [{'id': '1', 'description': 'Action'}, {'id': ...   \n",
       "29232  [{'id': '1', 'description': 'Action'}, {'id': ...   \n",
       "29233  [{'id': '25', 'description': 'Adventure'}, {'i...   \n",
       "29234  [{'id': '25', 'description': 'Adventure'}, {'i...   \n",
       "\n",
       "                                             screenshots  \\\n",
       "0      [{'id': 0, 'path_thumbnail': 'https://steamcdn...   \n",
       "1      [{'id': 0, 'path_thumbnail': 'https://steamcdn...   \n",
       "2      [{'id': 0, 'path_thumbnail': 'https://steamcdn...   \n",
       "3      [{'id': 0, 'path_thumbnail': 'https://steamcdn...   \n",
       "4      [{'id': 0, 'path_thumbnail': 'https://steamcdn...   \n",
       "...                                                  ...   \n",
       "29230  [{'id': 0, 'path_thumbnail': 'https://steamcdn...   \n",
       "29231  [{'id': 0, 'path_thumbnail': 'https://steamcdn...   \n",
       "29232  [{'id': 0, 'path_thumbnail': 'https://steamcdn...   \n",
       "29233  [{'id': 0, 'path_thumbnail': 'https://steamcdn...   \n",
       "29234  [{'id': 0, 'path_thumbnail': 'https://steamcdn...   \n",
       "\n",
       "                                                  movies   recommendations  \\\n",
       "0                                                    NaN  {'total': 65735}   \n",
       "1                                                    NaN   {'total': 2802}   \n",
       "2                                                    NaN   {'total': 1992}   \n",
       "3                                                    NaN    {'total': 931}   \n",
       "4                                                    NaN   {'total': 4355}   \n",
       "...                                                  ...               ...   \n",
       "29230  [{'id': 256747452, 'name': 'Video', 'thumbnail...               NaN   \n",
       "29231  [{'id': 256747487, 'name': 'Game Trailer', 'th...               NaN   \n",
       "29232  [{'id': 256747530, 'name': 'Gameplay Trailer',...               NaN   \n",
       "29233  [{'id': 256747638, 'name': 'Main Trailer', 'th...               NaN   \n",
       "29234  [{'id': 256748098, 'name': 'Main Trailer', 'th...               NaN   \n",
       "\n",
       "                                            achievements  \\\n",
       "0                                           {'total': 0}   \n",
       "1                                           {'total': 0}   \n",
       "2                                           {'total': 0}   \n",
       "3                                           {'total': 0}   \n",
       "4                                           {'total': 0}   \n",
       "...                                                  ...   \n",
       "29230  {'total': 7, 'highlighted': [{'name': 'THE FIR...   \n",
       "29231                                                NaN   \n",
       "29232  {'total': 24, 'highlighted': [{'name': 'Power ...   \n",
       "29233                                       {'total': 0}   \n",
       "29234                                       {'total': 0}   \n",
       "\n",
       "                                         release_date  \\\n",
       "0       {'coming_soon': False, 'date': '1 Nov, 2000'}   \n",
       "1       {'coming_soon': False, 'date': '1 Apr, 1999'}   \n",
       "2       {'coming_soon': False, 'date': '1 May, 2003'}   \n",
       "3       {'coming_soon': False, 'date': '1 Jun, 2001'}   \n",
       "4       {'coming_soon': False, 'date': '1 Nov, 1999'}   \n",
       "...                                               ...   \n",
       "29230  {'coming_soon': False, 'date': '24 Apr, 2019'}   \n",
       "29231  {'coming_soon': False, 'date': '23 Apr, 2019'}   \n",
       "29232  {'coming_soon': False, 'date': '24 Apr, 2019'}   \n",
       "29233  {'coming_soon': False, 'date': '17 Apr, 2019'}   \n",
       "29234  {'coming_soon': False, 'date': '24 Apr, 2019'}   \n",
       "\n",
       "                                            support_info  \\\n",
       "0      {'url': 'http://steamcommunity.com/app/10', 'e...   \n",
       "1                               {'url': '', 'email': ''}   \n",
       "2                               {'url': '', 'email': ''}   \n",
       "3                               {'url': '', 'email': ''}   \n",
       "4      {'url': 'https://help.steampowered.com', 'emai...   \n",
       "...                                                  ...   \n",
       "29230  {'url': 'https://goldlogsh.wixsite.com/myapps'...   \n",
       "29231        {'url': '', 'email': 'piziroggg@gmail.com'}   \n",
       "29232  {'url': 'http://www.entwickler-x.de', 'email':...   \n",
       "29233  {'url': 'http://www.alawar.com', 'email': 'ste...   \n",
       "29234  {'url': 'http://www.alawar.com', 'email': 'ste...   \n",
       "\n",
       "                                              background  \\\n",
       "0      https://steamcdn-a.akamaihd.net/steam/apps/10/...   \n",
       "1      https://steamcdn-a.akamaihd.net/steam/apps/20/...   \n",
       "2      https://steamcdn-a.akamaihd.net/steam/apps/30/...   \n",
       "3      https://steamcdn-a.akamaihd.net/steam/apps/40/...   \n",
       "4      https://steamcdn-a.akamaihd.net/steam/apps/50/...   \n",
       "...                                                  ...   \n",
       "29230  https://steamcdn-a.akamaihd.net/steam/apps/106...   \n",
       "29231  https://steamcdn-a.akamaihd.net/steam/apps/106...   \n",
       "29232  https://steamcdn-a.akamaihd.net/steam/apps/106...   \n",
       "29233  https://steamcdn-a.akamaihd.net/steam/apps/106...   \n",
       "29234  https://steamcdn-a.akamaihd.net/steam/apps/106...   \n",
       "\n",
       "                                     content_descriptors  \n",
       "0      {'ids': [2, 5], 'notes': 'Includes intense vio...  \n",
       "1      {'ids': [2, 5], 'notes': 'Includes intense vio...  \n",
       "2                             {'ids': [], 'notes': None}  \n",
       "3                             {'ids': [], 'notes': None}  \n",
       "4                             {'ids': [], 'notes': None}  \n",
       "...                                                  ...  \n",
       "29230                         {'ids': [], 'notes': None}  \n",
       "29231                         {'ids': [], 'notes': None}  \n",
       "29232                         {'ids': [], 'notes': None}  \n",
       "29233                         {'ids': [], 'notes': None}  \n",
       "29234                         {'ids': [], 'notes': None}  \n",
       "\n",
       "[29235 rows x 39 columns]"
      ]
     },
     "execution_count": 94,
     "metadata": {},
     "output_type": "execute_result"
    }
   ],
   "source": [
    "api_data = pd.read_csv(\"steam_app_data.csv\")\n",
    "api_data"
   ]
  },
  {
   "cell_type": "code",
   "execution_count": 95,
   "id": "8ed25006",
   "metadata": {},
   "outputs": [
    {
     "name": "stdout",
     "output_type": "stream",
     "text": [
      "<class 'pandas.core.frame.DataFrame'>\n",
      "RangeIndex: 29235 entries, 0 to 29234\n",
      "Data columns (total 39 columns):\n",
      " #   Column                   Non-Null Count  Dtype  \n",
      "---  ------                   --------------  -----  \n",
      " 0   type                     29086 non-null  object \n",
      " 1   name                     29234 non-null  object \n",
      " 2   steam_appid              29235 non-null  int64  \n",
      " 3   required_age             29086 non-null  float64\n",
      " 4   is_free                  29086 non-null  object \n",
      " 5   controller_support       5998 non-null   object \n",
      " 6   dlc                      4975 non-null   object \n",
      " 7   detailed_description     29060 non-null  object \n",
      " 8   about_the_game           29060 non-null  object \n",
      " 9   short_description        29060 non-null  object \n",
      " 10  fullgame                 0 non-null      float64\n",
      " 11  supported_languages      29072 non-null  object \n",
      " 12  header_image             29086 non-null  object \n",
      " 13  website                  19252 non-null  object \n",
      " 14  pc_requirements          29086 non-null  object \n",
      " 15  mac_requirements         29086 non-null  object \n",
      " 16  linux_requirements       29086 non-null  object \n",
      " 17  legal_notice             10067 non-null  object \n",
      " 18  drm_notice               158 non-null    object \n",
      " 19  ext_user_account_notice  512 non-null    object \n",
      " 20  developers               28971 non-null  object \n",
      " 21  publishers               29086 non-null  object \n",
      " 22  demos                    2139 non-null   object \n",
      " 23  price_overview           25523 non-null  object \n",
      " 24  packages                 25865 non-null  object \n",
      " 25  package_groups           29086 non-null  object \n",
      " 26  platforms                29086 non-null  object \n",
      " 27  metacritic               2981 non-null   object \n",
      " 28  reviews                  5905 non-null   object \n",
      " 29  categories               28521 non-null  object \n",
      " 30  genres                   29039 non-null  object \n",
      " 31  screenshots              29058 non-null  object \n",
      " 32  movies                   27157 non-null  object \n",
      " 33  recommendations          6728 non-null   object \n",
      " 34  achievements             26854 non-null  object \n",
      " 35  release_date             29086 non-null  object \n",
      " 36  support_info             29086 non-null  object \n",
      " 37  background               29058 non-null  object \n",
      " 38  content_descriptors      29086 non-null  object \n",
      "dtypes: float64(2), int64(1), object(36)\n",
      "memory usage: 8.7+ MB\n"
     ]
    }
   ],
   "source": [
    "api_data.info()"
   ]
  },
  {
   "cell_type": "code",
   "execution_count": 96,
   "id": "ae8d0e31",
   "metadata": {},
   "outputs": [
    {
     "data": {
      "text/plain": [
       "type                         149\n",
       "name                           1\n",
       "steam_appid                    0\n",
       "required_age                 149\n",
       "is_free                      149\n",
       "controller_support         23237\n",
       "dlc                        24260\n",
       "detailed_description         175\n",
       "about_the_game               175\n",
       "short_description            175\n",
       "fullgame                   29235\n",
       "supported_languages          163\n",
       "header_image                 149\n",
       "website                     9983\n",
       "pc_requirements              149\n",
       "mac_requirements             149\n",
       "linux_requirements           149\n",
       "legal_notice               19168\n",
       "drm_notice                 29077\n",
       "ext_user_account_notice    28723\n",
       "developers                   264\n",
       "publishers                   149\n",
       "demos                      27096\n",
       "price_overview              3712\n",
       "packages                    3370\n",
       "package_groups               149\n",
       "platforms                    149\n",
       "metacritic                 26254\n",
       "reviews                    23330\n",
       "categories                   714\n",
       "genres                       196\n",
       "screenshots                  177\n",
       "movies                      2078\n",
       "recommendations            22507\n",
       "achievements                2381\n",
       "release_date                 149\n",
       "support_info                 149\n",
       "background                   177\n",
       "content_descriptors          149\n",
       "dtype: int64"
      ]
     },
     "execution_count": 96,
     "metadata": {},
     "output_type": "execute_result"
    }
   ],
   "source": [
    "api_data.isnull().sum()"
   ]
  },
  {
   "cell_type": "code",
   "execution_count": 97,
   "id": "46541b9d",
   "metadata": {},
   "outputs": [
    {
     "data": {
      "image/png": "[encoded data removed]",
      "text/plain": [
       "<Figure size 1800x720 with 3 Axes>"
      ]
     },
     "metadata": {
      "needs_background": "light"
     },
     "output_type": "display_data"
    }
   ],
   "source": [
    "# Total number of missing values is calculated by summing up all the null values in each column(1000 values)\n",
    "import missingno as msno\n",
    "msno.bar(api_data)\n",
    "plt.show()"
   ]
  },
  {
   "cell_type": "code",
   "execution_count": 98,
   "id": "40009890",
   "metadata": {},
   "outputs": [
    {
     "name": "stdout",
     "output_type": "stream",
     "text": [
      "<class 'pandas.core.frame.DataFrame'>\n",
      "RangeIndex: 29235 entries, 0 to 29234\n",
      "Data columns (total 22 columns):\n",
      " #   Column               Non-Null Count  Dtype  \n",
      "---  ------               --------------  -----  \n",
      " 0   type                 29086 non-null  object \n",
      " 1   name                 29234 non-null  object \n",
      " 2   steam_appid          29235 non-null  int64  \n",
      " 3   required_age         29086 non-null  float64\n",
      " 4   is_free              29086 non-null  object \n",
      " 5   controller_support   5998 non-null   object \n",
      " 6   dlc                  4975 non-null   object \n",
      " 7   supported_languages  29072 non-null  object \n",
      " 8   website              19252 non-null  object \n",
      " 9   pc_requirements      29086 non-null  object \n",
      " 10  mac_requirements     29086 non-null  object \n",
      " 11  linux_requirements   29086 non-null  object \n",
      " 12  developers           28971 non-null  object \n",
      " 13  publishers           29086 non-null  object \n",
      " 14  price_overview       25523 non-null  object \n",
      " 15  platforms            29086 non-null  object \n",
      " 16  metacritic           2981 non-null   object \n",
      " 17  categories           28521 non-null  object \n",
      " 18  genres               29039 non-null  object \n",
      " 19  screenshots          29058 non-null  object \n",
      " 20  recommendations      6728 non-null   object \n",
      " 21  achievements         26854 non-null  object \n",
      "dtypes: float64(1), int64(1), object(20)\n",
      "memory usage: 4.9+ MB\n"
     ]
    }
   ],
   "source": [
    "# Removing columns that are not required or don't add any value\n",
    "columns_to_remove = ['fullgame', 'legal_notice', 'ext_user_account_notice', 'demos', 'drm_notice','reviews', 'detailed_description', 'about_the_game', 'short_description','fullgame','header_image','packages','package_groups','support_info','movies','release_date','background','content_descriptors']\n",
    "\n",
    "api_data = api_data.drop(columns_to_remove, axis=1)\n",
    "api_data.info()"
   ]
  },
  {
   "cell_type": "code",
   "execution_count": 99,
   "id": "5a3ce6b1",
   "metadata": {},
   "outputs": [
    {
     "data": {
      "text/plain": [
       "game    29086\n",
       "NaN       149\n",
       "Name: type, dtype: int64"
      ]
     },
     "execution_count": 99,
     "metadata": {},
     "output_type": "execute_result"
    }
   ],
   "source": [
    "api_data['type'].value_counts(dropna=False)"
   ]
  },
  {
   "cell_type": "code",
   "execution_count": 100,
   "id": "3ac47f08",
   "metadata": {},
   "outputs": [
    {
     "name": "stdout",
     "output_type": "stream",
     "text": [
      "number of duplicate rows:  7\n"
     ]
    },
    {
     "data": {
      "text/html": [
       "<div>\n",
       "<style scoped>\n",
       "    .dataframe tbody tr th:only-of-type {\n",
       "        vertical-align: middle;\n",
       "    }\n",
       "\n",
       "    .dataframe tbody tr th {\n",
       "        vertical-align: top;\n",
       "    }\n",
       "\n",
       "    .dataframe thead th {\n",
       "        text-align: right;\n",
       "    }\n",
       "</style>\n",
       "<table border=\"1\" class=\"dataframe\">\n",
       "  <thead>\n",
       "    <tr style=\"text-align: right;\">\n",
       "      <th></th>\n",
       "      <th>type</th>\n",
       "      <th>name</th>\n",
       "      <th>steam_appid</th>\n",
       "      <th>required_age</th>\n",
       "      <th>is_free</th>\n",
       "      <th>controller_support</th>\n",
       "      <th>dlc</th>\n",
       "      <th>supported_languages</th>\n",
       "      <th>website</th>\n",
       "      <th>pc_requirements</th>\n",
       "      <th>...</th>\n",
       "      <th>developers</th>\n",
       "      <th>publishers</th>\n",
       "      <th>price_overview</th>\n",
       "      <th>platforms</th>\n",
       "      <th>metacritic</th>\n",
       "      <th>categories</th>\n",
       "      <th>genres</th>\n",
       "      <th>screenshots</th>\n",
       "      <th>recommendations</th>\n",
       "      <th>achievements</th>\n",
       "    </tr>\n",
       "  </thead>\n",
       "  <tbody>\n",
       "    <tr>\n",
       "      <th>31</th>\n",
       "      <td>game</td>\n",
       "      <td>SiN Episodes: Emergence</td>\n",
       "      <td>1300</td>\n",
       "      <td>0.0</td>\n",
       "      <td>False</td>\n",
       "      <td>NaN</td>\n",
       "      <td>NaN</td>\n",
       "      <td>English, Russian, French</td>\n",
       "      <td>NaN</td>\n",
       "      <td>{'minimum': '\\r\\n\\t\\t\\t&lt;p&gt;&lt;strong&gt;Minimum:&lt;/st...</td>\n",
       "      <td>...</td>\n",
       "      <td>['Ritual Entertainment']</td>\n",
       "      <td>['Ritual Entertainment']</td>\n",
       "      <td>{'currency': 'GBP', 'initial': 719, 'final': 7...</td>\n",
       "      <td>{'windows': True, 'mac': False, 'linux': False}</td>\n",
       "      <td>{'score': 75, 'url': 'https://www.metacritic.c...</td>\n",
       "      <td>[{'id': 2, 'description': 'Single-player'}, {'...</td>\n",
       "      <td>[{'id': '1', 'description': 'Action'}]</td>\n",
       "      <td>[{'id': 0, 'path_thumbnail': 'https://steamcdn...</td>\n",
       "      <td>{'total': 265}</td>\n",
       "      <td>{'total': 0}</td>\n",
       "    </tr>\n",
       "    <tr>\n",
       "      <th>32</th>\n",
       "      <td>game</td>\n",
       "      <td>SiN Episodes: Emergence</td>\n",
       "      <td>1300</td>\n",
       "      <td>0.0</td>\n",
       "      <td>False</td>\n",
       "      <td>NaN</td>\n",
       "      <td>NaN</td>\n",
       "      <td>English, Russian, French</td>\n",
       "      <td>NaN</td>\n",
       "      <td>{'minimum': '\\r\\n\\t\\t\\t&lt;p&gt;&lt;strong&gt;Minimum:&lt;/st...</td>\n",
       "      <td>...</td>\n",
       "      <td>['Ritual Entertainment']</td>\n",
       "      <td>['Ritual Entertainment']</td>\n",
       "      <td>{'currency': 'GBP', 'initial': 719, 'final': 7...</td>\n",
       "      <td>{'windows': True, 'mac': False, 'linux': False}</td>\n",
       "      <td>{'score': 75, 'url': 'https://www.metacritic.c...</td>\n",
       "      <td>[{'id': 2, 'description': 'Single-player'}, {'...</td>\n",
       "      <td>[{'id': '1', 'description': 'Action'}]</td>\n",
       "      <td>[{'id': 0, 'path_thumbnail': 'https://steamcdn...</td>\n",
       "      <td>{'total': 265}</td>\n",
       "      <td>{'total': 0}</td>\n",
       "    </tr>\n",
       "    <tr>\n",
       "      <th>356</th>\n",
       "      <td>game</td>\n",
       "      <td>Jagged Alliance 2 Gold</td>\n",
       "      <td>1620</td>\n",
       "      <td>0.0</td>\n",
       "      <td>False</td>\n",
       "      <td>NaN</td>\n",
       "      <td>NaN</td>\n",
       "      <td>English</td>\n",
       "      <td>http://www.jaggedalliance2.com/</td>\n",
       "      <td>{'minimum': '&lt;p&gt;&lt;strong&gt;Minimum Configuration:...</td>\n",
       "      <td>...</td>\n",
       "      <td>['Strategy First']</td>\n",
       "      <td>['Strategy First']</td>\n",
       "      <td>{'currency': 'GBP', 'initial': 1499, 'final': ...</td>\n",
       "      <td>{'windows': True, 'mac': False, 'linux': False}</td>\n",
       "      <td>NaN</td>\n",
       "      <td>[{'id': 2, 'description': 'Single-player'}]</td>\n",
       "      <td>[{'id': '2', 'description': 'Strategy'}]</td>\n",
       "      <td>[{'id': 0, 'path_thumbnail': 'https://steamcdn...</td>\n",
       "      <td>NaN</td>\n",
       "      <td>{'total': 0}</td>\n",
       "    </tr>\n",
       "  </tbody>\n",
       "</table>\n",
       "<p>3 rows × 22 columns</p>\n",
       "</div>"
      ],
      "text/plain": [
       "     type                     name  steam_appid  required_age is_free  \\\n",
       "31   game  SiN Episodes: Emergence         1300           0.0   False   \n",
       "32   game  SiN Episodes: Emergence         1300           0.0   False   \n",
       "356  game   Jagged Alliance 2 Gold         1620           0.0   False   \n",
       "\n",
       "    controller_support  dlc       supported_languages  \\\n",
       "31                 NaN  NaN  English, Russian, French   \n",
       "32                 NaN  NaN  English, Russian, French   \n",
       "356                NaN  NaN                   English   \n",
       "\n",
       "                             website  \\\n",
       "31                               NaN   \n",
       "32                               NaN   \n",
       "356  http://www.jaggedalliance2.com/   \n",
       "\n",
       "                                       pc_requirements  ...  \\\n",
       "31   {'minimum': '\\r\\n\\t\\t\\t<p><strong>Minimum:</st...  ...   \n",
       "32   {'minimum': '\\r\\n\\t\\t\\t<p><strong>Minimum:</st...  ...   \n",
       "356  {'minimum': '<p><strong>Minimum Configuration:...  ...   \n",
       "\n",
       "                   developers                publishers  \\\n",
       "31   ['Ritual Entertainment']  ['Ritual Entertainment']   \n",
       "32   ['Ritual Entertainment']  ['Ritual Entertainment']   \n",
       "356        ['Strategy First']        ['Strategy First']   \n",
       "\n",
       "                                        price_overview  \\\n",
       "31   {'currency': 'GBP', 'initial': 719, 'final': 7...   \n",
       "32   {'currency': 'GBP', 'initial': 719, 'final': 7...   \n",
       "356  {'currency': 'GBP', 'initial': 1499, 'final': ...   \n",
       "\n",
       "                                           platforms  \\\n",
       "31   {'windows': True, 'mac': False, 'linux': False}   \n",
       "32   {'windows': True, 'mac': False, 'linux': False}   \n",
       "356  {'windows': True, 'mac': False, 'linux': False}   \n",
       "\n",
       "                                            metacritic  \\\n",
       "31   {'score': 75, 'url': 'https://www.metacritic.c...   \n",
       "32   {'score': 75, 'url': 'https://www.metacritic.c...   \n",
       "356                                                NaN   \n",
       "\n",
       "                                            categories  \\\n",
       "31   [{'id': 2, 'description': 'Single-player'}, {'...   \n",
       "32   [{'id': 2, 'description': 'Single-player'}, {'...   \n",
       "356        [{'id': 2, 'description': 'Single-player'}]   \n",
       "\n",
       "                                       genres  \\\n",
       "31     [{'id': '1', 'description': 'Action'}]   \n",
       "32     [{'id': '1', 'description': 'Action'}]   \n",
       "356  [{'id': '2', 'description': 'Strategy'}]   \n",
       "\n",
       "                                           screenshots recommendations  \\\n",
       "31   [{'id': 0, 'path_thumbnail': 'https://steamcdn...  {'total': 265}   \n",
       "32   [{'id': 0, 'path_thumbnail': 'https://steamcdn...  {'total': 265}   \n",
       "356  [{'id': 0, 'path_thumbnail': 'https://steamcdn...             NaN   \n",
       "\n",
       "     achievements  \n",
       "31   {'total': 0}  \n",
       "32   {'total': 0}  \n",
       "356  {'total': 0}  \n",
       "\n",
       "[3 rows x 22 columns]"
      ]
     },
     "execution_count": 100,
     "metadata": {},
     "output_type": "execute_result"
    }
   ],
   "source": [
    "duplicates_rows = api_data[api_data.duplicated()]\n",
    "print(\"number of duplicate rows: \", duplicates_rows.shape[0])\n",
    "duplicates_rows.head(3)"
   ]
  },
  {
   "cell_type": "code",
   "execution_count": 101,
   "id": "90b40a54",
   "metadata": {},
   "outputs": [
    {
     "name": "stdout",
     "output_type": "stream",
     "text": [
      "Number of rows before dropping duplicates: 29235\n",
      "Number of rows after dropping duplicates: 29228\n"
     ]
    }
   ],
   "source": [
    "print(\"Number of rows before dropping duplicates:\", api_data.shape[0])\n",
    "api_data_cleaned = api_data.drop_duplicates()\n",
    "print(\"Number of rows after dropping duplicates:\", api_data_cleaned.shape[0])"
   ]
  },
  {
   "cell_type": "code",
   "execution_count": 102,
   "id": "6fe3c598",
   "metadata": {},
   "outputs": [
    {
     "name": "stdout",
     "output_type": "stream",
     "text": [
      "<class 'pandas.core.frame.DataFrame'>\n",
      "Int64Index: 29228 entries, 0 to 29234\n",
      "Data columns (total 22 columns):\n",
      " #   Column               Non-Null Count  Dtype  \n",
      "---  ------               --------------  -----  \n",
      " 0   type                 29079 non-null  object \n",
      " 1   name                 29227 non-null  object \n",
      " 2   steam_appid          29228 non-null  int64  \n",
      " 3   required_age         29079 non-null  float64\n",
      " 4   is_free              29079 non-null  object \n",
      " 5   controller_support   5998 non-null   object \n",
      " 6   dlc                  4975 non-null   object \n",
      " 7   supported_languages  29065 non-null  object \n",
      " 8   website              19249 non-null  object \n",
      " 9   pc_requirements      29079 non-null  object \n",
      " 10  mac_requirements     29079 non-null  object \n",
      " 11  linux_requirements   29079 non-null  object \n",
      " 12  developers           28964 non-null  object \n",
      " 13  publishers           29079 non-null  object \n",
      " 14  price_overview       25516 non-null  object \n",
      " 15  platforms            29079 non-null  object \n",
      " 16  metacritic           2975 non-null   object \n",
      " 17  categories           28514 non-null  object \n",
      " 18  genres               29032 non-null  object \n",
      " 19  screenshots          29051 non-null  object \n",
      " 20  recommendations      6724 non-null   object \n",
      " 21  achievements         26847 non-null  object \n",
      "dtypes: float64(1), int64(1), object(20)\n",
      "memory usage: 5.1+ MB\n"
     ]
    }
   ],
   "source": [
    "api_data_cleaned.info()"
   ]
  },
  {
   "cell_type": "code",
   "execution_count": 103,
   "id": "9ecc7ad5",
   "metadata": {},
   "outputs": [
    {
     "data": {
      "text/html": [
       "<div>\n",
       "<style scoped>\n",
       "    .dataframe tbody tr th:only-of-type {\n",
       "        vertical-align: middle;\n",
       "    }\n",
       "\n",
       "    .dataframe tbody tr th {\n",
       "        vertical-align: top;\n",
       "    }\n",
       "\n",
       "    .dataframe thead th {\n",
       "        text-align: right;\n",
       "    }\n",
       "</style>\n",
       "<table border=\"1\" class=\"dataframe\">\n",
       "  <thead>\n",
       "    <tr style=\"text-align: right;\">\n",
       "      <th></th>\n",
       "      <th>name</th>\n",
       "      <th>steam_appid</th>\n",
       "      <th>required_age</th>\n",
       "      <th>is_free</th>\n",
       "      <th>controller_support</th>\n",
       "      <th>dlc</th>\n",
       "      <th>supported_languages</th>\n",
       "      <th>website</th>\n",
       "      <th>pc_requirements</th>\n",
       "      <th>mac_requirements</th>\n",
       "      <th>...</th>\n",
       "      <th>developers</th>\n",
       "      <th>publishers</th>\n",
       "      <th>price_overview</th>\n",
       "      <th>platforms</th>\n",
       "      <th>metacritic</th>\n",
       "      <th>categories</th>\n",
       "      <th>genres</th>\n",
       "      <th>screenshots</th>\n",
       "      <th>recommendations</th>\n",
       "      <th>achievements</th>\n",
       "    </tr>\n",
       "  </thead>\n",
       "  <tbody>\n",
       "    <tr>\n",
       "      <th>0</th>\n",
       "      <td>Counter-Strike</td>\n",
       "      <td>10</td>\n",
       "      <td>0.0</td>\n",
       "      <td>False</td>\n",
       "      <td>NaN</td>\n",
       "      <td>NaN</td>\n",
       "      <td>English&lt;strong&gt;*&lt;/strong&gt;, French&lt;strong&gt;*&lt;/st...</td>\n",
       "      <td>NaN</td>\n",
       "      <td>{'minimum': '\\r\\n\\t\\t\\t&lt;p&gt;&lt;strong&gt;Minimum:&lt;/st...</td>\n",
       "      <td>{'minimum': 'Minimum: OS X  Snow Leopard 10.6....</td>\n",
       "      <td>...</td>\n",
       "      <td>['Valve']</td>\n",
       "      <td>['Valve']</td>\n",
       "      <td>{'currency': 'GBP', 'initial': 719, 'final': 7...</td>\n",
       "      <td>{'windows': True, 'mac': True, 'linux': True}</td>\n",
       "      <td>{'score': 88, 'url': 'https://www.metacritic.c...</td>\n",
       "      <td>[{'id': 1, 'description': 'Multi-player'}, {'i...</td>\n",
       "      <td>[{'id': '1', 'description': 'Action'}]</td>\n",
       "      <td>[{'id': 0, 'path_thumbnail': 'https://steamcdn...</td>\n",
       "      <td>{'total': 65735}</td>\n",
       "      <td>{'total': 0}</td>\n",
       "    </tr>\n",
       "    <tr>\n",
       "      <th>1</th>\n",
       "      <td>Team Fortress Classic</td>\n",
       "      <td>20</td>\n",
       "      <td>0.0</td>\n",
       "      <td>False</td>\n",
       "      <td>NaN</td>\n",
       "      <td>NaN</td>\n",
       "      <td>English, French, German, Italian, Spanish - Sp...</td>\n",
       "      <td>NaN</td>\n",
       "      <td>{'minimum': '\\r\\n\\t\\t\\t&lt;p&gt;&lt;strong&gt;Minimum:&lt;/st...</td>\n",
       "      <td>{'minimum': 'Minimum: OS X  Snow Leopard 10.6....</td>\n",
       "      <td>...</td>\n",
       "      <td>['Valve']</td>\n",
       "      <td>['Valve']</td>\n",
       "      <td>{'currency': 'GBP', 'initial': 399, 'final': 3...</td>\n",
       "      <td>{'windows': True, 'mac': True, 'linux': True}</td>\n",
       "      <td>NaN</td>\n",
       "      <td>[{'id': 1, 'description': 'Multi-player'}, {'i...</td>\n",
       "      <td>[{'id': '1', 'description': 'Action'}]</td>\n",
       "      <td>[{'id': 0, 'path_thumbnail': 'https://steamcdn...</td>\n",
       "      <td>{'total': 2802}</td>\n",
       "      <td>{'total': 0}</td>\n",
       "    </tr>\n",
       "    <tr>\n",
       "      <th>2</th>\n",
       "      <td>Day of Defeat</td>\n",
       "      <td>30</td>\n",
       "      <td>0.0</td>\n",
       "      <td>False</td>\n",
       "      <td>NaN</td>\n",
       "      <td>NaN</td>\n",
       "      <td>English, French, German, Italian, Spanish - Spain</td>\n",
       "      <td>http://www.dayofdefeat.com/</td>\n",
       "      <td>{'minimum': '\\r\\n\\t\\t\\t&lt;p&gt;&lt;strong&gt;Minimum:&lt;/st...</td>\n",
       "      <td>{'minimum': 'Minimum: OS X  Snow Leopard 10.6....</td>\n",
       "      <td>...</td>\n",
       "      <td>['Valve']</td>\n",
       "      <td>['Valve']</td>\n",
       "      <td>{'currency': 'GBP', 'initial': 399, 'final': 3...</td>\n",
       "      <td>{'windows': True, 'mac': True, 'linux': True}</td>\n",
       "      <td>{'score': 79, 'url': 'https://www.metacritic.c...</td>\n",
       "      <td>[{'id': 1, 'description': 'Multi-player'}, {'i...</td>\n",
       "      <td>[{'id': '1', 'description': 'Action'}]</td>\n",
       "      <td>[{'id': 0, 'path_thumbnail': 'https://steamcdn...</td>\n",
       "      <td>{'total': 1992}</td>\n",
       "      <td>{'total': 0}</td>\n",
       "    </tr>\n",
       "    <tr>\n",
       "      <th>3</th>\n",
       "      <td>Deathmatch Classic</td>\n",
       "      <td>40</td>\n",
       "      <td>0.0</td>\n",
       "      <td>False</td>\n",
       "      <td>NaN</td>\n",
       "      <td>NaN</td>\n",
       "      <td>English, French, German, Italian, Spanish - Sp...</td>\n",
       "      <td>NaN</td>\n",
       "      <td>{'minimum': '\\r\\n\\t\\t\\t&lt;p&gt;&lt;strong&gt;Minimum:&lt;/st...</td>\n",
       "      <td>{'minimum': 'Minimum: OS X  Snow Leopard 10.6....</td>\n",
       "      <td>...</td>\n",
       "      <td>['Valve']</td>\n",
       "      <td>['Valve']</td>\n",
       "      <td>{'currency': 'GBP', 'initial': 399, 'final': 3...</td>\n",
       "      <td>{'windows': True, 'mac': True, 'linux': True}</td>\n",
       "      <td>NaN</td>\n",
       "      <td>[{'id': 1, 'description': 'Multi-player'}, {'i...</td>\n",
       "      <td>[{'id': '1', 'description': 'Action'}]</td>\n",
       "      <td>[{'id': 0, 'path_thumbnail': 'https://steamcdn...</td>\n",
       "      <td>{'total': 931}</td>\n",
       "      <td>{'total': 0}</td>\n",
       "    </tr>\n",
       "    <tr>\n",
       "      <th>4</th>\n",
       "      <td>Half-Life: Opposing Force</td>\n",
       "      <td>50</td>\n",
       "      <td>0.0</td>\n",
       "      <td>False</td>\n",
       "      <td>NaN</td>\n",
       "      <td>NaN</td>\n",
       "      <td>English, French, German, Korean</td>\n",
       "      <td>NaN</td>\n",
       "      <td>{'minimum': '\\r\\n\\t\\t\\t&lt;p&gt;&lt;strong&gt;Minimum:&lt;/st...</td>\n",
       "      <td>{'minimum': 'Minimum: OS X  Snow Leopard 10.6....</td>\n",
       "      <td>...</td>\n",
       "      <td>['Gearbox Software']</td>\n",
       "      <td>['Valve']</td>\n",
       "      <td>{'currency': 'GBP', 'initial': 399, 'final': 3...</td>\n",
       "      <td>{'windows': True, 'mac': True, 'linux': True}</td>\n",
       "      <td>NaN</td>\n",
       "      <td>[{'id': 2, 'description': 'Single-player'}, {'...</td>\n",
       "      <td>[{'id': '1', 'description': 'Action'}]</td>\n",
       "      <td>[{'id': 0, 'path_thumbnail': 'https://steamcdn...</td>\n",
       "      <td>{'total': 4355}</td>\n",
       "      <td>{'total': 0}</td>\n",
       "    </tr>\n",
       "    <tr>\n",
       "      <th>...</th>\n",
       "      <td>...</td>\n",
       "      <td>...</td>\n",
       "      <td>...</td>\n",
       "      <td>...</td>\n",
       "      <td>...</td>\n",
       "      <td>...</td>\n",
       "      <td>...</td>\n",
       "      <td>...</td>\n",
       "      <td>...</td>\n",
       "      <td>...</td>\n",
       "      <td>...</td>\n",
       "      <td>...</td>\n",
       "      <td>...</td>\n",
       "      <td>...</td>\n",
       "      <td>...</td>\n",
       "      <td>...</td>\n",
       "      <td>...</td>\n",
       "      <td>...</td>\n",
       "      <td>...</td>\n",
       "      <td>...</td>\n",
       "      <td>...</td>\n",
       "    </tr>\n",
       "    <tr>\n",
       "      <th>29230</th>\n",
       "      <td>Room of Pandora</td>\n",
       "      <td>1065230</td>\n",
       "      <td>0.0</td>\n",
       "      <td>False</td>\n",
       "      <td>NaN</td>\n",
       "      <td>NaN</td>\n",
       "      <td>English, Japanese, Simplified Chinese, Traditi...</td>\n",
       "      <td>NaN</td>\n",
       "      <td>{'minimum': '&lt;strong&gt;Minimum:&lt;/strong&gt;&lt;br&gt;&lt;ul ...</td>\n",
       "      <td>[]</td>\n",
       "      <td>...</td>\n",
       "      <td>['SHEN JIAWEI']</td>\n",
       "      <td>['SHEN JIAWEI']</td>\n",
       "      <td>{'currency': 'GBP', 'initial': 209, 'final': 1...</td>\n",
       "      <td>{'windows': True, 'mac': False, 'linux': False}</td>\n",
       "      <td>NaN</td>\n",
       "      <td>[{'id': 2, 'description': 'Single-player'}, {'...</td>\n",
       "      <td>[{'id': '25', 'description': 'Adventure'}, {'i...</td>\n",
       "      <td>[{'id': 0, 'path_thumbnail': 'https://steamcdn...</td>\n",
       "      <td>NaN</td>\n",
       "      <td>{'total': 7, 'highlighted': [{'name': 'THE FIR...</td>\n",
       "    </tr>\n",
       "    <tr>\n",
       "      <th>29231</th>\n",
       "      <td>Cyber Gun</td>\n",
       "      <td>1065570</td>\n",
       "      <td>0.0</td>\n",
       "      <td>False</td>\n",
       "      <td>NaN</td>\n",
       "      <td>NaN</td>\n",
       "      <td>English</td>\n",
       "      <td>NaN</td>\n",
       "      <td>{'minimum': '&lt;strong&gt;Minimum:&lt;/strong&gt;&lt;br&gt;&lt;ul ...</td>\n",
       "      <td>[]</td>\n",
       "      <td>...</td>\n",
       "      <td>['Semyon Maximov']</td>\n",
       "      <td>['BekkerDev Studio']</td>\n",
       "      <td>{'currency': 'GBP', 'initial': 169, 'final': 1...</td>\n",
       "      <td>{'windows': True, 'mac': False, 'linux': False}</td>\n",
       "      <td>NaN</td>\n",
       "      <td>[{'id': 2, 'description': 'Single-player'}]</td>\n",
       "      <td>[{'id': '1', 'description': 'Action'}, {'id': ...</td>\n",
       "      <td>[{'id': 0, 'path_thumbnail': 'https://steamcdn...</td>\n",
       "      <td>NaN</td>\n",
       "      <td>NaN</td>\n",
       "    </tr>\n",
       "    <tr>\n",
       "      <th>29232</th>\n",
       "      <td>Super Star Blast</td>\n",
       "      <td>1065650</td>\n",
       "      <td>0.0</td>\n",
       "      <td>False</td>\n",
       "      <td>full</td>\n",
       "      <td>NaN</td>\n",
       "      <td>English&lt;strong&gt;*&lt;/strong&gt;&lt;br&gt;&lt;strong&gt;*&lt;/strong...</td>\n",
       "      <td>http://entwickler-x.de/super-star-blast</td>\n",
       "      <td>{'minimum': '&lt;strong&gt;Minimum:&lt;/strong&gt;&lt;br&gt;&lt;ul ...</td>\n",
       "      <td>[]</td>\n",
       "      <td>...</td>\n",
       "      <td>['EntwicklerX']</td>\n",
       "      <td>['EntwicklerX']</td>\n",
       "      <td>{'currency': 'GBP', 'initial': 399, 'final': 3...</td>\n",
       "      <td>{'windows': True, 'mac': False, 'linux': False}</td>\n",
       "      <td>NaN</td>\n",
       "      <td>[{'id': 2, 'description': 'Single-player'}, {'...</td>\n",
       "      <td>[{'id': '1', 'description': 'Action'}, {'id': ...</td>\n",
       "      <td>[{'id': 0, 'path_thumbnail': 'https://steamcdn...</td>\n",
       "      <td>NaN</td>\n",
       "      <td>{'total': 24, 'highlighted': [{'name': 'Power ...</td>\n",
       "    </tr>\n",
       "    <tr>\n",
       "      <th>29233</th>\n",
       "      <td>New Yankee 7: Deer Hunters</td>\n",
       "      <td>1066700</td>\n",
       "      <td>0.0</td>\n",
       "      <td>False</td>\n",
       "      <td>NaN</td>\n",
       "      <td>NaN</td>\n",
       "      <td>English, German, Korean, Russian</td>\n",
       "      <td>https://steamcommunity.com/groups/alawargames</td>\n",
       "      <td>{'minimum': '&lt;strong&gt;Minimum:&lt;/strong&gt;&lt;br&gt;&lt;ul ...</td>\n",
       "      <td>{'minimum': '&lt;strong&gt;Minimum:&lt;/strong&gt;&lt;br&gt;&lt;ul ...</td>\n",
       "      <td>...</td>\n",
       "      <td>['Yustas Game Studio']</td>\n",
       "      <td>['Alawar Entertainment']</td>\n",
       "      <td>{'currency': 'GBP', 'initial': 519, 'final': 5...</td>\n",
       "      <td>{'windows': True, 'mac': True, 'linux': False}</td>\n",
       "      <td>NaN</td>\n",
       "      <td>[{'id': 2, 'description': 'Single-player'}, {'...</td>\n",
       "      <td>[{'id': '25', 'description': 'Adventure'}, {'i...</td>\n",
       "      <td>[{'id': 0, 'path_thumbnail': 'https://steamcdn...</td>\n",
       "      <td>NaN</td>\n",
       "      <td>{'total': 0}</td>\n",
       "    </tr>\n",
       "    <tr>\n",
       "      <th>29234</th>\n",
       "      <td>Rune Lord</td>\n",
       "      <td>1069460</td>\n",
       "      <td>0.0</td>\n",
       "      <td>False</td>\n",
       "      <td>NaN</td>\n",
       "      <td>NaN</td>\n",
       "      <td>English, French, Italian, German, Spanish - Sp...</td>\n",
       "      <td>https://steamcommunity.com/groups/alawargames</td>\n",
       "      <td>{'minimum': '&lt;strong&gt;Minimum:&lt;/strong&gt;&lt;br&gt;&lt;ul ...</td>\n",
       "      <td>{'minimum': '&lt;strong&gt;Minimum:&lt;/strong&gt;&lt;br&gt;&lt;ul ...</td>\n",
       "      <td>...</td>\n",
       "      <td>['Adept Studios GD']</td>\n",
       "      <td>['Alawar Entertainment']</td>\n",
       "      <td>{'currency': 'GBP', 'initial': 519, 'final': 4...</td>\n",
       "      <td>{'windows': True, 'mac': True, 'linux': False}</td>\n",
       "      <td>NaN</td>\n",
       "      <td>[{'id': 2, 'description': 'Single-player'}, {'...</td>\n",
       "      <td>[{'id': '25', 'description': 'Adventure'}, {'i...</td>\n",
       "      <td>[{'id': 0, 'path_thumbnail': 'https://steamcdn...</td>\n",
       "      <td>NaN</td>\n",
       "      <td>{'total': 0}</td>\n",
       "    </tr>\n",
       "  </tbody>\n",
       "</table>\n",
       "<p>29075 rows × 21 columns</p>\n",
       "</div>"
      ],
      "text/plain": [
       "                             name  steam_appid  required_age is_free  \\\n",
       "0                  Counter-Strike           10           0.0   False   \n",
       "1           Team Fortress Classic           20           0.0   False   \n",
       "2                   Day of Defeat           30           0.0   False   \n",
       "3              Deathmatch Classic           40           0.0   False   \n",
       "4       Half-Life: Opposing Force           50           0.0   False   \n",
       "...                           ...          ...           ...     ...   \n",
       "29230             Room of Pandora      1065230           0.0   False   \n",
       "29231                   Cyber Gun      1065570           0.0   False   \n",
       "29232            Super Star Blast      1065650           0.0   False   \n",
       "29233  New Yankee 7: Deer Hunters      1066700           0.0   False   \n",
       "29234                   Rune Lord      1069460           0.0   False   \n",
       "\n",
       "      controller_support  dlc  \\\n",
       "0                    NaN  NaN   \n",
       "1                    NaN  NaN   \n",
       "2                    NaN  NaN   \n",
       "3                    NaN  NaN   \n",
       "4                    NaN  NaN   \n",
       "...                  ...  ...   \n",
       "29230                NaN  NaN   \n",
       "29231                NaN  NaN   \n",
       "29232               full  NaN   \n",
       "29233                NaN  NaN   \n",
       "29234                NaN  NaN   \n",
       "\n",
       "                                     supported_languages  \\\n",
       "0      English<strong>*</strong>, French<strong>*</st...   \n",
       "1      English, French, German, Italian, Spanish - Sp...   \n",
       "2      English, French, German, Italian, Spanish - Spain   \n",
       "3      English, French, German, Italian, Spanish - Sp...   \n",
       "4                        English, French, German, Korean   \n",
       "...                                                  ...   \n",
       "29230  English, Japanese, Simplified Chinese, Traditi...   \n",
       "29231                                            English   \n",
       "29232  English<strong>*</strong><br><strong>*</strong...   \n",
       "29233                   English, German, Korean, Russian   \n",
       "29234  English, French, Italian, German, Spanish - Sp...   \n",
       "\n",
       "                                             website  \\\n",
       "0                                                NaN   \n",
       "1                                                NaN   \n",
       "2                        http://www.dayofdefeat.com/   \n",
       "3                                                NaN   \n",
       "4                                                NaN   \n",
       "...                                              ...   \n",
       "29230                                            NaN   \n",
       "29231                                            NaN   \n",
       "29232        http://entwickler-x.de/super-star-blast   \n",
       "29233  https://steamcommunity.com/groups/alawargames   \n",
       "29234  https://steamcommunity.com/groups/alawargames   \n",
       "\n",
       "                                         pc_requirements  \\\n",
       "0      {'minimum': '\\r\\n\\t\\t\\t<p><strong>Minimum:</st...   \n",
       "1      {'minimum': '\\r\\n\\t\\t\\t<p><strong>Minimum:</st...   \n",
       "2      {'minimum': '\\r\\n\\t\\t\\t<p><strong>Minimum:</st...   \n",
       "3      {'minimum': '\\r\\n\\t\\t\\t<p><strong>Minimum:</st...   \n",
       "4      {'minimum': '\\r\\n\\t\\t\\t<p><strong>Minimum:</st...   \n",
       "...                                                  ...   \n",
       "29230  {'minimum': '<strong>Minimum:</strong><br><ul ...   \n",
       "29231  {'minimum': '<strong>Minimum:</strong><br><ul ...   \n",
       "29232  {'minimum': '<strong>Minimum:</strong><br><ul ...   \n",
       "29233  {'minimum': '<strong>Minimum:</strong><br><ul ...   \n",
       "29234  {'minimum': '<strong>Minimum:</strong><br><ul ...   \n",
       "\n",
       "                                        mac_requirements  ...  \\\n",
       "0      {'minimum': 'Minimum: OS X  Snow Leopard 10.6....  ...   \n",
       "1      {'minimum': 'Minimum: OS X  Snow Leopard 10.6....  ...   \n",
       "2      {'minimum': 'Minimum: OS X  Snow Leopard 10.6....  ...   \n",
       "3      {'minimum': 'Minimum: OS X  Snow Leopard 10.6....  ...   \n",
       "4      {'minimum': 'Minimum: OS X  Snow Leopard 10.6....  ...   \n",
       "...                                                  ...  ...   \n",
       "29230                                                 []  ...   \n",
       "29231                                                 []  ...   \n",
       "29232                                                 []  ...   \n",
       "29233  {'minimum': '<strong>Minimum:</strong><br><ul ...  ...   \n",
       "29234  {'minimum': '<strong>Minimum:</strong><br><ul ...  ...   \n",
       "\n",
       "                   developers                publishers  \\\n",
       "0                   ['Valve']                 ['Valve']   \n",
       "1                   ['Valve']                 ['Valve']   \n",
       "2                   ['Valve']                 ['Valve']   \n",
       "3                   ['Valve']                 ['Valve']   \n",
       "4        ['Gearbox Software']                 ['Valve']   \n",
       "...                       ...                       ...   \n",
       "29230         ['SHEN JIAWEI']           ['SHEN JIAWEI']   \n",
       "29231      ['Semyon Maximov']      ['BekkerDev Studio']   \n",
       "29232         ['EntwicklerX']           ['EntwicklerX']   \n",
       "29233  ['Yustas Game Studio']  ['Alawar Entertainment']   \n",
       "29234    ['Adept Studios GD']  ['Alawar Entertainment']   \n",
       "\n",
       "                                          price_overview  \\\n",
       "0      {'currency': 'GBP', 'initial': 719, 'final': 7...   \n",
       "1      {'currency': 'GBP', 'initial': 399, 'final': 3...   \n",
       "2      {'currency': 'GBP', 'initial': 399, 'final': 3...   \n",
       "3      {'currency': 'GBP', 'initial': 399, 'final': 3...   \n",
       "4      {'currency': 'GBP', 'initial': 399, 'final': 3...   \n",
       "...                                                  ...   \n",
       "29230  {'currency': 'GBP', 'initial': 209, 'final': 1...   \n",
       "29231  {'currency': 'GBP', 'initial': 169, 'final': 1...   \n",
       "29232  {'currency': 'GBP', 'initial': 399, 'final': 3...   \n",
       "29233  {'currency': 'GBP', 'initial': 519, 'final': 5...   \n",
       "29234  {'currency': 'GBP', 'initial': 519, 'final': 4...   \n",
       "\n",
       "                                             platforms  \\\n",
       "0        {'windows': True, 'mac': True, 'linux': True}   \n",
       "1        {'windows': True, 'mac': True, 'linux': True}   \n",
       "2        {'windows': True, 'mac': True, 'linux': True}   \n",
       "3        {'windows': True, 'mac': True, 'linux': True}   \n",
       "4        {'windows': True, 'mac': True, 'linux': True}   \n",
       "...                                                ...   \n",
       "29230  {'windows': True, 'mac': False, 'linux': False}   \n",
       "29231  {'windows': True, 'mac': False, 'linux': False}   \n",
       "29232  {'windows': True, 'mac': False, 'linux': False}   \n",
       "29233   {'windows': True, 'mac': True, 'linux': False}   \n",
       "29234   {'windows': True, 'mac': True, 'linux': False}   \n",
       "\n",
       "                                              metacritic  \\\n",
       "0      {'score': 88, 'url': 'https://www.metacritic.c...   \n",
       "1                                                    NaN   \n",
       "2      {'score': 79, 'url': 'https://www.metacritic.c...   \n",
       "3                                                    NaN   \n",
       "4                                                    NaN   \n",
       "...                                                  ...   \n",
       "29230                                                NaN   \n",
       "29231                                                NaN   \n",
       "29232                                                NaN   \n",
       "29233                                                NaN   \n",
       "29234                                                NaN   \n",
       "\n",
       "                                              categories  \\\n",
       "0      [{'id': 1, 'description': 'Multi-player'}, {'i...   \n",
       "1      [{'id': 1, 'description': 'Multi-player'}, {'i...   \n",
       "2      [{'id': 1, 'description': 'Multi-player'}, {'i...   \n",
       "3      [{'id': 1, 'description': 'Multi-player'}, {'i...   \n",
       "4      [{'id': 2, 'description': 'Single-player'}, {'...   \n",
       "...                                                  ...   \n",
       "29230  [{'id': 2, 'description': 'Single-player'}, {'...   \n",
       "29231        [{'id': 2, 'description': 'Single-player'}]   \n",
       "29232  [{'id': 2, 'description': 'Single-player'}, {'...   \n",
       "29233  [{'id': 2, 'description': 'Single-player'}, {'...   \n",
       "29234  [{'id': 2, 'description': 'Single-player'}, {'...   \n",
       "\n",
       "                                                  genres  \\\n",
       "0                 [{'id': '1', 'description': 'Action'}]   \n",
       "1                 [{'id': '1', 'description': 'Action'}]   \n",
       "2                 [{'id': '1', 'description': 'Action'}]   \n",
       "3                 [{'id': '1', 'description': 'Action'}]   \n",
       "4                 [{'id': '1', 'description': 'Action'}]   \n",
       "...                                                  ...   \n",
       "29230  [{'id': '25', 'description': 'Adventure'}, {'i...   \n",
       "29231  [{'id': '1', 'description': 'Action'}, {'id': ...   \n",
       "29232  [{'id': '1', 'description': 'Action'}, {'id': ...   \n",
       "29233  [{'id': '25', 'description': 'Adventure'}, {'i...   \n",
       "29234  [{'id': '25', 'description': 'Adventure'}, {'i...   \n",
       "\n",
       "                                             screenshots   recommendations  \\\n",
       "0      [{'id': 0, 'path_thumbnail': 'https://steamcdn...  {'total': 65735}   \n",
       "1      [{'id': 0, 'path_thumbnail': 'https://steamcdn...   {'total': 2802}   \n",
       "2      [{'id': 0, 'path_thumbnail': 'https://steamcdn...   {'total': 1992}   \n",
       "3      [{'id': 0, 'path_thumbnail': 'https://steamcdn...    {'total': 931}   \n",
       "4      [{'id': 0, 'path_thumbnail': 'https://steamcdn...   {'total': 4355}   \n",
       "...                                                  ...               ...   \n",
       "29230  [{'id': 0, 'path_thumbnail': 'https://steamcdn...               NaN   \n",
       "29231  [{'id': 0, 'path_thumbnail': 'https://steamcdn...               NaN   \n",
       "29232  [{'id': 0, 'path_thumbnail': 'https://steamcdn...               NaN   \n",
       "29233  [{'id': 0, 'path_thumbnail': 'https://steamcdn...               NaN   \n",
       "29234  [{'id': 0, 'path_thumbnail': 'https://steamcdn...               NaN   \n",
       "\n",
       "                                            achievements  \n",
       "0                                           {'total': 0}  \n",
       "1                                           {'total': 0}  \n",
       "2                                           {'total': 0}  \n",
       "3                                           {'total': 0}  \n",
       "4                                           {'total': 0}  \n",
       "...                                                  ...  \n",
       "29230  {'total': 7, 'highlighted': [{'name': 'THE FIR...  \n",
       "29231                                                NaN  \n",
       "29232  {'total': 24, 'highlighted': [{'name': 'Power ...  \n",
       "29233                                       {'total': 0}  \n",
       "29234                                       {'total': 0}  \n",
       "\n",
       "[29075 rows x 21 columns]"
      ]
     },
     "execution_count": 103,
     "metadata": {},
     "output_type": "execute_result"
    }
   ],
   "source": [
    "def process_name_type(api_data_cleaned):\n",
    "    # Removing null values in name and type columns, and remove type column\n",
    "    api_data_cleaned = api_data_cleaned[api_data_cleaned['type'].notnull()]\n",
    "    \n",
    "    api_data_cleaned = api_data_cleaned[api_data_cleaned['name'].notnull()]\n",
    "    api_data_cleaned = api_data_cleaned[api_data_cleaned['name'] != 'none']\n",
    "    \n",
    "    api_data_cleaned = api_data_cleaned.drop('type', axis=1)\n",
    "    \n",
    "    return api_data_cleaned\n",
    "    \n",
    "\n",
    "def process(api_data_cleaned):\n",
    "    \"\"\"Process data set. Will eventually contain calls to all functions we write.\"\"\"\n",
    "    \n",
    "    # Copying the input dataframe so I dont lose data for 100th time\n",
    "    # Keep doing it all fuctions\n",
    "    api_data_cleaned = api_data_cleaned.copy()\n",
    "    \n",
    "    # Removing duplicate rows\n",
    "    api_data_cleaned = api_data_cleaned.drop_duplicates()\n",
    "    \n",
    "    api_data_cleaned = process_name_type(api_data_cleaned)\n",
    "    \n",
    "    return api_data_cleaned\n",
    "\n",
    "api_data_cleaned = process(api_data_cleaned)\n",
    "api_data_cleaned"
   ]
  },
  {
   "cell_type": "code",
   "execution_count": 104,
   "id": "bc048219",
   "metadata": {},
   "outputs": [
    {
     "data": {
      "text/plain": [
       "0.0       28431\n",
       "1.0           1\n",
       "3.0          10\n",
       "4.0           2\n",
       "5.0           1\n",
       "6.0           1\n",
       "7.0           8\n",
       "10.0          3\n",
       "11.0          4\n",
       "12.0         72\n",
       "13.0         21\n",
       "14.0          4\n",
       "15.0         39\n",
       "16.0        141\n",
       "17.0         47\n",
       "18.0        288\n",
       "20.0          1\n",
       "1818.0        1\n",
       "Name: required_age, dtype: int64"
      ]
     },
     "execution_count": 104,
     "metadata": {},
     "output_type": "execute_result"
    }
   ],
   "source": [
    "api_data_cleaned['required_age'].value_counts(dropna=False).sort_index()"
   ]
  },
  {
   "cell_type": "code",
   "execution_count": 105,
   "id": "466ae522",
   "metadata": {},
   "outputs": [
    {
     "data": {
      "text/plain": [
       "0     28431\n",
       "3        11\n",
       "7        12\n",
       "13       79\n",
       "16      205\n",
       "18      337\n",
       "Name: required_age, dtype: int64"
      ]
     },
     "execution_count": 105,
     "metadata": {},
     "output_type": "execute_result"
    }
   ],
   "source": [
    "def process_age(api_data_cleaned):\n",
    "    #Format ratings in age column to be in line with the PEGI Age Ratings system because project require PG13 content\n",
    "    # PEGI Age ratings: 3, 7, 12, 16, 18\n",
    "    cut_points = [-1, 0, 3, 7, 12, 16, 2000]\n",
    "    label_values = [0, 3, 7, 13, 16, 18]\n",
    "    \n",
    "    api_data_cleaned['required_age'] = pd.cut(api_data_cleaned['required_age'], bins=cut_points, labels=label_values)\n",
    "    \n",
    "    return api_data_cleaned\n",
    "\n",
    "\n",
    "age_df = process_age(api_data_cleaned)\n",
    "age_df['required_age'].value_counts().sort_index()"
   ]
  },
  {
   "cell_type": "code",
   "execution_count": 106,
   "id": "acaa9ffd",
   "metadata": {},
   "outputs": [
    {
     "data": {
      "text/plain": [
       "0    {'currency': 'GBP', 'initial': 719, 'final': 7...\n",
       "1    {'currency': 'GBP', 'initial': 399, 'final': 3...\n",
       "2    {'currency': 'GBP', 'initial': 399, 'final': 3...\n",
       "3    {'currency': 'GBP', 'initial': 399, 'final': 3...\n",
       "4    {'currency': 'GBP', 'initial': 399, 'final': 3...\n",
       "Name: price_overview, dtype: object"
      ]
     },
     "execution_count": 106,
     "metadata": {},
     "output_type": "execute_result"
    }
   ],
   "source": [
    "age_df['price_overview'].head()"
   ]
  },
  {
   "cell_type": "code",
   "execution_count": 107,
   "id": "45fadb62",
   "metadata": {},
   "outputs": [
    {
     "data": {
      "text/plain": [
       "0    {'windows': True, 'mac': True, 'linux': True}\n",
       "1    {'windows': True, 'mac': True, 'linux': True}\n",
       "2    {'windows': True, 'mac': True, 'linux': True}\n",
       "3    {'windows': True, 'mac': True, 'linux': True}\n",
       "4    {'windows': True, 'mac': True, 'linux': True}\n",
       "Name: platforms, dtype: object"
      ]
     },
     "execution_count": 107,
     "metadata": {},
     "output_type": "execute_result"
    }
   ],
   "source": [
    "age_df['platforms'].head()"
   ]
  },
  {
   "cell_type": "code",
   "execution_count": 108,
   "id": "1eb9e9fd",
   "metadata": {},
   "outputs": [
    {
     "name": "stdout",
     "output_type": "stream",
     "text": [
      "<class 'str'>\n"
     ]
    },
    {
     "data": {
      "text/plain": [
       "\"{'windows': True, 'mac': True, 'linux': True}\""
      ]
     },
     "execution_count": 108,
     "metadata": {},
     "output_type": "execute_result"
    }
   ],
   "source": [
    "platforms_first_row = age_df['platforms'].iloc[0]\n",
    "\n",
    "print(type(platforms_first_row))\n",
    "\n",
    "platforms_first_row"
   ]
  },
  {
   "cell_type": "code",
   "execution_count": 109,
   "id": "4ce36e24",
   "metadata": {},
   "outputs": [
    {
     "name": "stdout",
     "output_type": "stream",
     "text": [
      "<class 'dict'>\n",
      "{'windows': True, 'mac': True, 'linux': True}\n"
     ]
    },
    {
     "data": {
      "text/plain": [
       "True"
      ]
     },
     "execution_count": 109,
     "metadata": {},
     "output_type": "execute_result"
    }
   ],
   "source": [
    "from ast import literal_eval\n",
    "eval_first_row = literal_eval(platforms_first_row)\n",
    "\n",
    "print(type(eval_first_row))\n",
    "print(eval_first_row)\n",
    "\n",
    "eval_first_row['windows']"
   ]
  },
  {
   "cell_type": "code",
   "execution_count": 110,
   "id": "99bba8ca",
   "metadata": {},
   "outputs": [
    {
     "data": {
      "text/plain": [
       "0     28431\n",
       "3        11\n",
       "7        12\n",
       "13       79\n",
       "16      205\n",
       "18      337\n",
       "Name: required_age, dtype: int64"
      ]
     },
     "execution_count": 110,
     "metadata": {},
     "output_type": "execute_result"
    }
   ],
   "source": [
    "age_df['required_age'].value_counts(dropna=False).sort_index()"
   ]
  },
  {
   "cell_type": "code",
   "execution_count": 144,
   "id": "48a95f78",
   "metadata": {},
   "outputs": [
    {
     "data": {
      "image/png": "[encoded data removed]",
      "text/plain": [
       "<Figure size 864x720 with 1 Axes>"
      ]
     },
     "metadata": {
      "needs_background": "light"
     },
     "output_type": "display_data"
    }
   ],
   "source": [
    "filtered_df = age_df[age_df['required_age'] != 0]\n",
    "\n",
    "# Create the bar chart\n",
    "plt.figure(figsize=(12, 10))\n",
    "sns.countplot(x='required_age', data=filtered_df, palette='viridis')\n",
    "\n",
    "plt.xlabel('Required Age')\n",
    "plt.ylabel('Count')\n",
    "plt.title('Distribution of Required Age after Processing')\n",
    "\n",
    "# Show the plot\n",
    "plt.show()"
   ]
  },
  {
   "cell_type": "code",
   "execution_count": 112,
   "id": "68073dc2",
   "metadata": {},
   "outputs": [
    {
     "data": {
      "text/plain": [
       "'windows;mac;linux'"
      ]
     },
     "execution_count": 112,
     "metadata": {},
     "output_type": "execute_result"
    }
   ],
   "source": [
    "';'.join(eval_first_row.keys())"
   ]
  },
  {
   "cell_type": "code",
   "execution_count": 113,
   "id": "0d050b07",
   "metadata": {},
   "outputs": [
    {
     "name": "stdout",
     "output_type": "stream",
     "text": [
      "['windows', 'mac']\n"
     ]
    },
    {
     "data": {
      "text/plain": [
       "'windows;mac'"
      ]
     },
     "execution_count": 113,
     "metadata": {},
     "output_type": "execute_result"
    }
   ],
   "source": [
    "platforms = {'windows': True, 'mac': True, 'linux': False}\n",
    "\n",
    "# list comprehension\n",
    "print([x for x in platforms.keys() if platforms[x]])\n",
    "\n",
    "# using list comprehension in join\n",
    "';'.join(x for x in platforms.keys() if platforms[x])"
   ]
  },
  {
   "cell_type": "code",
   "execution_count": 114,
   "id": "df2b6c26",
   "metadata": {},
   "outputs": [
    {
     "data": {
      "text/plain": [
       "windows              19887\n",
       "windows;mac;linux     4851\n",
       "windows;mac           3687\n",
       "windows;linux          643\n",
       "mac                      5\n",
       "mac;linux                1\n",
       "linux                    1\n",
       "Name: platforms, dtype: int64"
      ]
     },
     "execution_count": 114,
     "metadata": {},
     "output_type": "execute_result"
    }
   ],
   "source": [
    "def process_platforms(api_data_cleaned):\n",
    "\n",
    "    # Spliting the platforms column into multiple columns\n",
    "    # evaluate values in platforms column\n",
    "    api_data_cleaned = api_data_cleaned.copy()\n",
    "    \n",
    "    def parse_platforms(x):\n",
    "        \n",
    "        d = literal_eval(x)\n",
    "        \n",
    "        return ';'.join(platform for platform in d.keys() if d[platform])\n",
    "    \n",
    "    api_data_cleaned['platforms'] = api_data_cleaned['platforms'].apply(parse_platforms)\n",
    "    \n",
    "    return api_data_cleaned\n",
    "\n",
    "\n",
    "platforms_df = process_platforms(age_df)\n",
    "platforms_df['platforms'].value_counts()"
   ]
  },
  {
   "cell_type": "code",
   "execution_count": 115,
   "id": "fc07a9e7",
   "metadata": {},
   "outputs": [
    {
     "data": {
      "text/plain": [
       "3559"
      ]
     },
     "execution_count": 115,
     "metadata": {},
     "output_type": "execute_result"
    }
   ],
   "source": [
    "platforms_df['price_overview'].isnull().sum()"
   ]
  },
  {
   "cell_type": "code",
   "execution_count": 116,
   "id": "cc63a7af",
   "metadata": {},
   "outputs": [
    {
     "data": {
      "text/plain": [
       "2713"
      ]
     },
     "execution_count": 116,
     "metadata": {},
     "output_type": "execute_result"
    }
   ],
   "source": [
    "free_and_null_price = platforms_df[(platforms_df['is_free']) & (platforms_df['price_overview'].isnull())]\n",
    "\n",
    "free_and_null_price.shape[0]"
   ]
  },
  {
   "cell_type": "code",
   "execution_count": 117,
   "id": "722567d2",
   "metadata": {},
   "outputs": [
    {
     "data": {
      "text/html": [
       "<div>\n",
       "<style scoped>\n",
       "    .dataframe tbody tr th:only-of-type {\n",
       "        vertical-align: middle;\n",
       "    }\n",
       "\n",
       "    .dataframe tbody tr th {\n",
       "        vertical-align: top;\n",
       "    }\n",
       "\n",
       "    .dataframe thead th {\n",
       "        text-align: right;\n",
       "    }\n",
       "</style>\n",
       "<table border=\"1\" class=\"dataframe\">\n",
       "  <thead>\n",
       "    <tr style=\"text-align: right;\">\n",
       "      <th></th>\n",
       "      <th>name</th>\n",
       "      <th>steam_appid</th>\n",
       "      <th>required_age</th>\n",
       "      <th>is_free</th>\n",
       "      <th>controller_support</th>\n",
       "      <th>dlc</th>\n",
       "      <th>supported_languages</th>\n",
       "      <th>website</th>\n",
       "      <th>pc_requirements</th>\n",
       "      <th>mac_requirements</th>\n",
       "      <th>...</th>\n",
       "      <th>developers</th>\n",
       "      <th>publishers</th>\n",
       "      <th>price_overview</th>\n",
       "      <th>platforms</th>\n",
       "      <th>metacritic</th>\n",
       "      <th>categories</th>\n",
       "      <th>genres</th>\n",
       "      <th>screenshots</th>\n",
       "      <th>recommendations</th>\n",
       "      <th>achievements</th>\n",
       "    </tr>\n",
       "  </thead>\n",
       "  <tbody>\n",
       "    <tr>\n",
       "      <th>63</th>\n",
       "      <td>The Ship: Single Player</td>\n",
       "      <td>2420</td>\n",
       "      <td>0</td>\n",
       "      <td>False</td>\n",
       "      <td>NaN</td>\n",
       "      <td>NaN</td>\n",
       "      <td>English, French, German, Italian, Spanish - Sp...</td>\n",
       "      <td>http://www.blazinggriffin.com/games/the-ship-m...</td>\n",
       "      <td>{'minimum': '&lt;strong&gt;Minimum:&lt;/strong&gt; 1.8 GHz...</td>\n",
       "      <td>[]</td>\n",
       "      <td>...</td>\n",
       "      <td>['Outerlight Ltd.']</td>\n",
       "      <td>['Blazing Griffin Ltd.']</td>\n",
       "      <td>NaN</td>\n",
       "      <td>windows</td>\n",
       "      <td>NaN</td>\n",
       "      <td>[{'id': 2, 'description': 'Single-player'}]</td>\n",
       "      <td>[{'id': '1', 'description': 'Action'}, {'id': ...</td>\n",
       "      <td>[{'id': 0, 'path_thumbnail': 'https://steamcdn...</td>\n",
       "      <td>{'total': 362}</td>\n",
       "      <td>{'total': 0}</td>\n",
       "    </tr>\n",
       "    <tr>\n",
       "      <th>75</th>\n",
       "      <td>RollerCoaster Tycoon® 3: Platinum</td>\n",
       "      <td>2700</td>\n",
       "      <td>0</td>\n",
       "      <td>False</td>\n",
       "      <td>NaN</td>\n",
       "      <td>NaN</td>\n",
       "      <td>English, French, Italian, German, Spanish - Sp...</td>\n",
       "      <td>http://www.atari.com/rollercoastertycoon/us/in...</td>\n",
       "      <td>{'minimum': '&lt;strong&gt;Minimum: &lt;/strong&gt;&lt;br&gt;\\t\\...</td>\n",
       "      <td>{'minimum': '&lt;ul class=\"bb_ul\"&gt;&lt;li&gt;&lt;strong&gt;OS:...</td>\n",
       "      <td>...</td>\n",
       "      <td>['Frontier', 'Aspyr (Mac)']</td>\n",
       "      <td>['Atari', 'Aspyr (Mac)']</td>\n",
       "      <td>NaN</td>\n",
       "      <td>windows;mac</td>\n",
       "      <td>{'score': 81, 'url': 'https://www.metacritic.c...</td>\n",
       "      <td>[{'id': 2, 'description': 'Single-player'}]</td>\n",
       "      <td>[{'id': '28', 'description': 'Simulation'}, {'...</td>\n",
       "      <td>[{'id': 0, 'path_thumbnail': 'https://steamcdn...</td>\n",
       "      <td>{'total': 3156}</td>\n",
       "      <td>{'total': 0}</td>\n",
       "    </tr>\n",
       "    <tr>\n",
       "      <th>220</th>\n",
       "      <td>BioShock™</td>\n",
       "      <td>7670</td>\n",
       "      <td>0</td>\n",
       "      <td>False</td>\n",
       "      <td>NaN</td>\n",
       "      <td>NaN</td>\n",
       "      <td>English&lt;strong&gt;*&lt;/strong&gt;, French&lt;strong&gt;*&lt;/st...</td>\n",
       "      <td>http://www.BioShockGame.com</td>\n",
       "      <td>{'minimum': '&lt;h2 class=\"bb_tag\"&gt;&lt;strong&gt;Minimu...</td>\n",
       "      <td>{'minimum': 'Please See BioShock Remastered'}</td>\n",
       "      <td>...</td>\n",
       "      <td>['2K Boston', '2K Australia']</td>\n",
       "      <td>['2K']</td>\n",
       "      <td>NaN</td>\n",
       "      <td>windows</td>\n",
       "      <td>{'score': 96, 'url': 'https://www.metacritic.c...</td>\n",
       "      <td>[{'id': 2, 'description': 'Single-player'}, {'...</td>\n",
       "      <td>[{'id': '1', 'description': 'Action'}, {'id': ...</td>\n",
       "      <td>[{'id': 0, 'path_thumbnail': 'https://steamcdn...</td>\n",
       "      <td>{'total': 15584}</td>\n",
       "      <td>{'total': 0}</td>\n",
       "    </tr>\n",
       "    <tr>\n",
       "      <th>234</th>\n",
       "      <td>Sam &amp; Max 101: Culture Shock</td>\n",
       "      <td>8200</td>\n",
       "      <td>0</td>\n",
       "      <td>False</td>\n",
       "      <td>NaN</td>\n",
       "      <td>NaN</td>\n",
       "      <td>English, French, German, Italian</td>\n",
       "      <td>http://store.steampowered.com/app/901660/</td>\n",
       "      <td>{'minimum': 'Windows XP or Vista, 1.5GHz proce...</td>\n",
       "      <td>[]</td>\n",
       "      <td>...</td>\n",
       "      <td>['Telltale Games']</td>\n",
       "      <td>['Telltale Games']</td>\n",
       "      <td>NaN</td>\n",
       "      <td>windows</td>\n",
       "      <td>NaN</td>\n",
       "      <td>[{'id': 2, 'description': 'Single-player'}]</td>\n",
       "      <td>[{'id': '1', 'description': 'Action'}, {'id': ...</td>\n",
       "      <td>[{'id': 0, 'path_thumbnail': 'https://steamcdn...</td>\n",
       "      <td>{'total': 271}</td>\n",
       "      <td>{'total': 0}</td>\n",
       "    </tr>\n",
       "    <tr>\n",
       "      <th>235</th>\n",
       "      <td>Sam &amp; Max 102: Situation: Comedy</td>\n",
       "      <td>8210</td>\n",
       "      <td>0</td>\n",
       "      <td>False</td>\n",
       "      <td>NaN</td>\n",
       "      <td>NaN</td>\n",
       "      <td>English, German, Italian</td>\n",
       "      <td>http://store.steampowered.com/app/901660/</td>\n",
       "      <td>{'minimum': 'Windows XP or Vista, 1.5GHz proce...</td>\n",
       "      <td>[]</td>\n",
       "      <td>...</td>\n",
       "      <td>['Telltale Games']</td>\n",
       "      <td>['Telltale Games']</td>\n",
       "      <td>NaN</td>\n",
       "      <td>windows</td>\n",
       "      <td>NaN</td>\n",
       "      <td>[{'id': 2, 'description': 'Single-player'}]</td>\n",
       "      <td>[{'id': '1', 'description': 'Action'}, {'id': ...</td>\n",
       "      <td>[{'id': 0, 'path_thumbnail': 'https://steamcdn...</td>\n",
       "      <td>NaN</td>\n",
       "      <td>{'total': 0}</td>\n",
       "    </tr>\n",
       "  </tbody>\n",
       "</table>\n",
       "<p>5 rows × 21 columns</p>\n",
       "</div>"
      ],
      "text/plain": [
       "                                  name  steam_appid required_age is_free  \\\n",
       "63             The Ship: Single Player         2420            0   False   \n",
       "75   RollerCoaster Tycoon® 3: Platinum         2700            0   False   \n",
       "220                          BioShock™         7670            0   False   \n",
       "234       Sam & Max 101: Culture Shock         8200            0   False   \n",
       "235   Sam & Max 102: Situation: Comedy         8210            0   False   \n",
       "\n",
       "    controller_support  dlc  \\\n",
       "63                 NaN  NaN   \n",
       "75                 NaN  NaN   \n",
       "220                NaN  NaN   \n",
       "234                NaN  NaN   \n",
       "235                NaN  NaN   \n",
       "\n",
       "                                   supported_languages  \\\n",
       "63   English, French, German, Italian, Spanish - Sp...   \n",
       "75   English, French, Italian, German, Spanish - Sp...   \n",
       "220  English<strong>*</strong>, French<strong>*</st...   \n",
       "234                   English, French, German, Italian   \n",
       "235                           English, German, Italian   \n",
       "\n",
       "                                               website  \\\n",
       "63   http://www.blazinggriffin.com/games/the-ship-m...   \n",
       "75   http://www.atari.com/rollercoastertycoon/us/in...   \n",
       "220                        http://www.BioShockGame.com   \n",
       "234          http://store.steampowered.com/app/901660/   \n",
       "235          http://store.steampowered.com/app/901660/   \n",
       "\n",
       "                                       pc_requirements  \\\n",
       "63   {'minimum': '<strong>Minimum:</strong> 1.8 GHz...   \n",
       "75   {'minimum': '<strong>Minimum: </strong><br>\\t\\...   \n",
       "220  {'minimum': '<h2 class=\"bb_tag\"><strong>Minimu...   \n",
       "234  {'minimum': 'Windows XP or Vista, 1.5GHz proce...   \n",
       "235  {'minimum': 'Windows XP or Vista, 1.5GHz proce...   \n",
       "\n",
       "                                      mac_requirements  ...  \\\n",
       "63                                                  []  ...   \n",
       "75   {'minimum': '<ul class=\"bb_ul\"><li><strong>OS:...  ...   \n",
       "220      {'minimum': 'Please See BioShock Remastered'}  ...   \n",
       "234                                                 []  ...   \n",
       "235                                                 []  ...   \n",
       "\n",
       "                        developers                publishers price_overview  \\\n",
       "63             ['Outerlight Ltd.']  ['Blazing Griffin Ltd.']            NaN   \n",
       "75     ['Frontier', 'Aspyr (Mac)']  ['Atari', 'Aspyr (Mac)']            NaN   \n",
       "220  ['2K Boston', '2K Australia']                    ['2K']            NaN   \n",
       "234             ['Telltale Games']        ['Telltale Games']            NaN   \n",
       "235             ['Telltale Games']        ['Telltale Games']            NaN   \n",
       "\n",
       "       platforms                                         metacritic  \\\n",
       "63       windows                                                NaN   \n",
       "75   windows;mac  {'score': 81, 'url': 'https://www.metacritic.c...   \n",
       "220      windows  {'score': 96, 'url': 'https://www.metacritic.c...   \n",
       "234      windows                                                NaN   \n",
       "235      windows                                                NaN   \n",
       "\n",
       "                                            categories  \\\n",
       "63         [{'id': 2, 'description': 'Single-player'}]   \n",
       "75         [{'id': 2, 'description': 'Single-player'}]   \n",
       "220  [{'id': 2, 'description': 'Single-player'}, {'...   \n",
       "234        [{'id': 2, 'description': 'Single-player'}]   \n",
       "235        [{'id': 2, 'description': 'Single-player'}]   \n",
       "\n",
       "                                                genres  \\\n",
       "63   [{'id': '1', 'description': 'Action'}, {'id': ...   \n",
       "75   [{'id': '28', 'description': 'Simulation'}, {'...   \n",
       "220  [{'id': '1', 'description': 'Action'}, {'id': ...   \n",
       "234  [{'id': '1', 'description': 'Action'}, {'id': ...   \n",
       "235  [{'id': '1', 'description': 'Action'}, {'id': ...   \n",
       "\n",
       "                                           screenshots   recommendations  \\\n",
       "63   [{'id': 0, 'path_thumbnail': 'https://steamcdn...    {'total': 362}   \n",
       "75   [{'id': 0, 'path_thumbnail': 'https://steamcdn...   {'total': 3156}   \n",
       "220  [{'id': 0, 'path_thumbnail': 'https://steamcdn...  {'total': 15584}   \n",
       "234  [{'id': 0, 'path_thumbnail': 'https://steamcdn...    {'total': 271}   \n",
       "235  [{'id': 0, 'path_thumbnail': 'https://steamcdn...               NaN   \n",
       "\n",
       "     achievements  \n",
       "63   {'total': 0}  \n",
       "75   {'total': 0}  \n",
       "220  {'total': 0}  \n",
       "234  {'total': 0}  \n",
       "235  {'total': 0}  \n",
       "\n",
       "[5 rows x 21 columns]"
      ]
     },
     "execution_count": 117,
     "metadata": {},
     "output_type": "execute_result"
    }
   ],
   "source": [
    "not_free_and_null_price = platforms_df[(platforms_df['is_free'] == False) & (platforms_df['price_overview'].isnull())]\n",
    "\n",
    "not_free_and_null_price.head()"
   ]
  },
  {
   "cell_type": "code",
   "execution_count": 118,
   "id": "9202b5a8",
   "metadata": {},
   "outputs": [
    {
     "name": "stdout",
     "output_type": "stream",
     "text": [
      "The Ship: Single Player: https://store.steampowered.com/app/2420\n",
      "RollerCoaster Tycoon® 3: Platinum: https://store.steampowered.com/app/2700\n",
      "BioShock™: https://store.steampowered.com/app/7670\n",
      "Sam & Max 101: Culture Shock: https://store.steampowered.com/app/8200\n",
      "Sam & Max 102: Situation: Comedy: https://store.steampowered.com/app/8210\n"
     ]
    }
   ],
   "source": [
    "def print_steam_links(df):\n",
    "    #Print links to store page for apps in a dataframe\n",
    "    url_base = \"https://store.steampowered.com/app/\"\n",
    "    \n",
    "    for i, row in df.iterrows():\n",
    "        appid = row['steam_appid']\n",
    "        name = row['name']\n",
    "        \n",
    "        print(name + ':', url_base + str(appid))\n",
    "        \n",
    "\n",
    "print_steam_links(not_free_and_null_price[:5])"
   ]
  },
  {
   "cell_type": "code",
   "execution_count": 119,
   "id": "5b14b58f",
   "metadata": {},
   "outputs": [
    {
     "data": {
      "text/html": [
       "<div>\n",
       "<style scoped>\n",
       "    .dataframe tbody tr th:only-of-type {\n",
       "        vertical-align: middle;\n",
       "    }\n",
       "\n",
       "    .dataframe tbody tr th {\n",
       "        vertical-align: top;\n",
       "    }\n",
       "\n",
       "    .dataframe thead th {\n",
       "        text-align: right;\n",
       "    }\n",
       "</style>\n",
       "<table border=\"1\" class=\"dataframe\">\n",
       "  <thead>\n",
       "    <tr style=\"text-align: right;\">\n",
       "      <th></th>\n",
       "      <th>name</th>\n",
       "      <th>currency</th>\n",
       "      <th>price</th>\n",
       "    </tr>\n",
       "  </thead>\n",
       "  <tbody>\n",
       "    <tr>\n",
       "      <th>0</th>\n",
       "      <td>Counter-Strike</td>\n",
       "      <td>GBP</td>\n",
       "      <td>719</td>\n",
       "    </tr>\n",
       "    <tr>\n",
       "      <th>1</th>\n",
       "      <td>Team Fortress Classic</td>\n",
       "      <td>GBP</td>\n",
       "      <td>399</td>\n",
       "    </tr>\n",
       "    <tr>\n",
       "      <th>2</th>\n",
       "      <td>Day of Defeat</td>\n",
       "      <td>GBP</td>\n",
       "      <td>399</td>\n",
       "    </tr>\n",
       "    <tr>\n",
       "      <th>3</th>\n",
       "      <td>Deathmatch Classic</td>\n",
       "      <td>GBP</td>\n",
       "      <td>399</td>\n",
       "    </tr>\n",
       "    <tr>\n",
       "      <th>4</th>\n",
       "      <td>Half-Life: Opposing Force</td>\n",
       "      <td>GBP</td>\n",
       "      <td>399</td>\n",
       "    </tr>\n",
       "  </tbody>\n",
       "</table>\n",
       "</div>"
      ],
      "text/plain": [
       "                        name currency  price\n",
       "0             Counter-Strike      GBP    719\n",
       "1      Team Fortress Classic      GBP    399\n",
       "2              Day of Defeat      GBP    399\n",
       "3         Deathmatch Classic      GBP    399\n",
       "4  Half-Life: Opposing Force      GBP    399"
      ]
     },
     "execution_count": 119,
     "metadata": {},
     "output_type": "execute_result"
    }
   ],
   "source": [
    "def process_price(api_data_cleaned):\n",
    "    api_data_cleaned = api_data_cleaned.copy()\n",
    "        \n",
    "    def parse_price(x):\n",
    "        if x is not np.nan:\n",
    "            return literal_eval(x)\n",
    "        else:\n",
    "            return {'currency': 'GBP', 'initial': -1}\n",
    "    \n",
    "    # Evaluatitng as dictionary and set to -1 if missing\n",
    "    api_data_cleaned['price_overview'] = api_data_cleaned['price_overview'].apply(parse_price)\n",
    "    \n",
    "    # Creating columns from currency and initial values\n",
    "    api_data_cleaned['currency'] = api_data_cleaned['price_overview'].apply(lambda x: x['currency'])\n",
    "    api_data_cleaned['price'] = api_data_cleaned['price_overview'].apply(lambda x: x['initial'])\n",
    "    \n",
    "    # Setting price of free games to 0\n",
    "    api_data_cleaned.loc[api_data_cleaned['is_free'], 'price'] = 0\n",
    "    \n",
    "    return api_data_cleaned\n",
    "\n",
    "price_data = process_price(platforms_df)[['name', 'currency', 'price']]\n",
    "price_data.head()"
   ]
  },
  {
   "cell_type": "code",
   "execution_count": 120,
   "id": "108d00db",
   "metadata": {},
   "outputs": [
    {
     "data": {
      "text/html": [
       "<div>\n",
       "<style scoped>\n",
       "    .dataframe tbody tr th:only-of-type {\n",
       "        vertical-align: middle;\n",
       "    }\n",
       "\n",
       "    .dataframe tbody tr th {\n",
       "        vertical-align: top;\n",
       "    }\n",
       "\n",
       "    .dataframe thead th {\n",
       "        text-align: right;\n",
       "    }\n",
       "</style>\n",
       "<table border=\"1\" class=\"dataframe\">\n",
       "  <thead>\n",
       "    <tr style=\"text-align: right;\">\n",
       "      <th></th>\n",
       "      <th>name</th>\n",
       "      <th>currency</th>\n",
       "      <th>price</th>\n",
       "    </tr>\n",
       "  </thead>\n",
       "  <tbody>\n",
       "    <tr>\n",
       "      <th>991</th>\n",
       "      <td>Robin Hood: The Legend of Sherwood</td>\n",
       "      <td>USD</td>\n",
       "      <td>799</td>\n",
       "    </tr>\n",
       "    <tr>\n",
       "      <th>5767</th>\n",
       "      <td>Assassin’s Creed® Chronicles: India</td>\n",
       "      <td>EUR</td>\n",
       "      <td>999</td>\n",
       "    </tr>\n",
       "    <tr>\n",
       "      <th>27593</th>\n",
       "      <td>Mortal Kombat 11</td>\n",
       "      <td>USD</td>\n",
       "      <td>5999</td>\n",
       "    </tr>\n",
       "    <tr>\n",
       "      <th>27995</th>\n",
       "      <td>Pagan Online</td>\n",
       "      <td>EUR</td>\n",
       "      <td>2699</td>\n",
       "    </tr>\n",
       "  </tbody>\n",
       "</table>\n",
       "</div>"
      ],
      "text/plain": [
       "                                      name currency  price\n",
       "991     Robin Hood: The Legend of Sherwood      USD    799\n",
       "5767   Assassin’s Creed® Chronicles: India      EUR    999\n",
       "27593                     Mortal Kombat 11      USD   5999\n",
       "27995                         Pagan Online      EUR   2699"
      ]
     },
     "execution_count": 120,
     "metadata": {},
     "output_type": "execute_result"
    }
   ],
   "source": [
    "price_data[price_data['currency'] != 'GBP']"
   ]
  },
  {
   "cell_type": "code",
   "execution_count": 121,
   "id": "0c89ebf2",
   "metadata": {},
   "outputs": [
    {
     "data": {
      "text/html": [
       "<div>\n",
       "<style scoped>\n",
       "    .dataframe tbody tr th:only-of-type {\n",
       "        vertical-align: middle;\n",
       "    }\n",
       "\n",
       "    .dataframe tbody tr th {\n",
       "        vertical-align: top;\n",
       "    }\n",
       "\n",
       "    .dataframe thead th {\n",
       "        text-align: right;\n",
       "    }\n",
       "</style>\n",
       "<table border=\"1\" class=\"dataframe\">\n",
       "  <thead>\n",
       "    <tr style=\"text-align: right;\">\n",
       "      <th></th>\n",
       "      <th>name</th>\n",
       "      <th>price</th>\n",
       "    </tr>\n",
       "  </thead>\n",
       "  <tbody>\n",
       "    <tr>\n",
       "      <th>0</th>\n",
       "      <td>Counter-Strike</td>\n",
       "      <td>7.19</td>\n",
       "    </tr>\n",
       "    <tr>\n",
       "      <th>1</th>\n",
       "      <td>Team Fortress Classic</td>\n",
       "      <td>3.99</td>\n",
       "    </tr>\n",
       "    <tr>\n",
       "      <th>2</th>\n",
       "      <td>Day of Defeat</td>\n",
       "      <td>3.99</td>\n",
       "    </tr>\n",
       "    <tr>\n",
       "      <th>3</th>\n",
       "      <td>Deathmatch Classic</td>\n",
       "      <td>3.99</td>\n",
       "    </tr>\n",
       "    <tr>\n",
       "      <th>4</th>\n",
       "      <td>Half-Life: Opposing Force</td>\n",
       "      <td>3.99</td>\n",
       "    </tr>\n",
       "  </tbody>\n",
       "</table>\n",
       "</div>"
      ],
      "text/plain": [
       "                        name  price\n",
       "0             Counter-Strike   7.19\n",
       "1      Team Fortress Classic   3.99\n",
       "2              Day of Defeat   3.99\n",
       "3         Deathmatch Classic   3.99\n",
       "4  Half-Life: Opposing Force   3.99"
      ]
     },
     "execution_count": 121,
     "metadata": {},
     "output_type": "execute_result"
    }
   ],
   "source": [
    "import pandas as pd\n",
    "import numpy as np\n",
    "from ast import literal_eval\n",
    "\n",
    "def process_price(api_data_cleaned):\n",
    "    \"\"\"Process price_overview column into formatted price column.\"\"\"\n",
    "    if not isinstance(api_data_cleaned, pd.DataFrame):\n",
    "        raise ValueError(\"Input must be a DataFrame.\")\n",
    "    \n",
    "    api_data_cleaned = api_data_cleaned.copy()\n",
    "    \n",
    "    def parse_price(x):\n",
    "        if x is not np.nan:\n",
    "            return literal_eval(x)\n",
    "        else:\n",
    "            return {'currency': 'GBP', 'initial': -1}\n",
    "    \n",
    "    # evaluate as dictionary and set to -1 if missing\n",
    "    api_data_cleaned['price_overview'] = api_data_cleaned['price_overview'].apply(parse_price)\n",
    "    \n",
    "    # create columns from currency and initial values\n",
    "    api_data_cleaned['currency'] = api_data_cleaned['price_overview'].apply(lambda x: x['currency'])\n",
    "    api_data_cleaned['price'] = api_data_cleaned['price_overview'].apply(lambda x: x['initial'])\n",
    "    \n",
    "    # set price of free games to 0\n",
    "    api_data_cleaned.loc[api_data_cleaned['is_free'], 'price'] = 0\n",
    "    \n",
    "    # remove non-GBP rows\n",
    "    api_data_cleaned = api_data_cleaned[api_data_cleaned['currency'] == 'GBP']\n",
    "    \n",
    "    # change price to display in pounds (only applying to rows with a value greater than 0)\n",
    "    api_data_cleaned.loc[api_data_cleaned['price'] > 0, 'price'] /= 100\n",
    "    \n",
    "    # remove columns no longer needed\n",
    "    api_data_cleaned = api_data_cleaned.drop(['is_free', 'currency', 'price_overview'], axis=1)\n",
    "    \n",
    "    return api_data_cleaned\n",
    "\n",
    "price_df = process_price(platforms_df)\n",
    "price_df[['name', 'price']].head()"
   ]
  },
  {
   "cell_type": "code",
   "execution_count": 122,
   "id": "e210d59b",
   "metadata": {},
   "outputs": [
    {
     "data": {
      "text/html": [
       "<div>\n",
       "<style scoped>\n",
       "    .dataframe tbody tr th:only-of-type {\n",
       "        vertical-align: middle;\n",
       "    }\n",
       "\n",
       "    .dataframe tbody tr th {\n",
       "        vertical-align: top;\n",
       "    }\n",
       "\n",
       "    .dataframe thead th {\n",
       "        text-align: right;\n",
       "    }\n",
       "</style>\n",
       "<table border=\"1\" class=\"dataframe\">\n",
       "  <thead>\n",
       "    <tr style=\"text-align: right;\">\n",
       "      <th></th>\n",
       "      <th>name</th>\n",
       "      <th>english</th>\n",
       "    </tr>\n",
       "  </thead>\n",
       "  <tbody>\n",
       "    <tr>\n",
       "      <th>0</th>\n",
       "      <td>Counter-Strike</td>\n",
       "      <td>1</td>\n",
       "    </tr>\n",
       "    <tr>\n",
       "      <th>1</th>\n",
       "      <td>Team Fortress Classic</td>\n",
       "      <td>1</td>\n",
       "    </tr>\n",
       "    <tr>\n",
       "      <th>2</th>\n",
       "      <td>Day of Defeat</td>\n",
       "      <td>1</td>\n",
       "    </tr>\n",
       "    <tr>\n",
       "      <th>3</th>\n",
       "      <td>Deathmatch Classic</td>\n",
       "      <td>1</td>\n",
       "    </tr>\n",
       "    <tr>\n",
       "      <th>4</th>\n",
       "      <td>Half-Life: Opposing Force</td>\n",
       "      <td>1</td>\n",
       "    </tr>\n",
       "  </tbody>\n",
       "</table>\n",
       "</div>"
      ],
      "text/plain": [
       "                        name  english\n",
       "0             Counter-Strike        1\n",
       "1      Team Fortress Classic        1\n",
       "2              Day of Defeat        1\n",
       "3         Deathmatch Classic        1\n",
       "4  Half-Life: Opposing Force        1"
      ]
     },
     "execution_count": 122,
     "metadata": {},
     "output_type": "execute_result"
    }
   ],
   "source": [
    "def process_language(df):\n",
    "    \"\"\"Process supported_languages column into a boolean 'is english' column.\"\"\"\n",
    "    df = df.copy()\n",
    "    \n",
    "    # drop rows with missing language data\n",
    "    df = df.dropna(subset=['supported_languages'])\n",
    "    \n",
    "    df['english'] = df['supported_languages'].apply(lambda x: 1 if 'english' in x.lower() else 0)\n",
    "    df = df.drop('supported_languages', axis=1)\n",
    "    \n",
    "    return df\n",
    "\n",
    "\n",
    "language_df = process_language(price_df)\n",
    "language_df[['name', 'english']].head()"
   ]
  },
  {
   "cell_type": "code",
   "execution_count": 123,
   "id": "ef13295f",
   "metadata": {},
   "outputs": [
    {
     "name": "stdout",
     "output_type": "stream",
     "text": [
      "Developers null counts: 112\n",
      "Developers empty list counts: 0\n",
      "\n",
      "Publishers null counts: 0\n",
      "Publishers empty list counts: 230\n"
     ]
    }
   ],
   "source": [
    "print('Developers null counts:', language_df['developers'].isnull().sum())\n",
    "print('Developers empty list counts:', language_df[language_df['developers'] == \"['']\"].shape[0])\n",
    "\n",
    "print('\\nPublishers null counts:', language_df['publishers'].isnull().sum())\n",
    "print('Publishers empty list counts:', language_df[language_df['publishers'] == \"['']\"].shape[0])"
   ]
  },
  {
   "cell_type": "code",
   "execution_count": 124,
   "id": "2e99a0bd",
   "metadata": {},
   "outputs": [
    {
     "name": "stdout",
     "output_type": "stream",
     "text": [
      "Total games missing developer: 112 \n",
      "\n",
      "Tycoon City: New York: https://store.steampowered.com/app/9730\n",
      "Nikopol: Secrets of the Immortals: https://store.steampowered.com/app/11370\n",
      "Crash Time 2: https://store.steampowered.com/app/11390\n",
      "Hunting Unlimited 2010: https://store.steampowered.com/app/12690\n",
      "18 Wheels of Steel: Extreme Trucker: https://store.steampowered.com/app/33730\n",
      "\n",
      "Total games missing publisher: 230 \n",
      "\n",
      "RIP - Trilogy™: https://store.steampowered.com/app/2540\n",
      "Vigil: Blood Bitterness™: https://store.steampowered.com/app/2570\n",
      "Bullet Candy: https://store.steampowered.com/app/6600\n",
      "AudioSurf: https://store.steampowered.com/app/12900\n",
      "Everyday Shooter: https://store.steampowered.com/app/16300\n",
      "\n",
      "Total games missing developer and publisher: 74 \n",
      "\n",
      "Patterns: https://store.steampowered.com/app/218980\n",
      "PlayClaw 5 - Game Recording and Streaming: https://store.steampowered.com/app/237370\n",
      "Artemis Spaceship Bridge Simulator: https://store.steampowered.com/app/247350\n",
      "A Walk in the Dark: https://store.steampowered.com/app/248730\n",
      "Forge Quest: https://store.steampowered.com/app/249950\n"
     ]
    }
   ],
   "source": [
    "no_dev = language_df[language_df['developers'].isnull()]\n",
    "\n",
    "print('Total games missing developer:', no_dev.shape[0], '\\n')\n",
    "\n",
    "print_steam_links(no_dev[:5])\n",
    "\n",
    "no_pub = language_df[language_df['publishers'] == \"['']\"]\n",
    "\n",
    "print('\\nTotal games missing publisher:', no_pub.shape[0], '\\n')\n",
    "print_steam_links(no_pub[:5])\n",
    "\n",
    "no_dev_or_pub = language_df[(language_df['developers'].isnull()) & (language_df['publishers'] == \"['']\")]\n",
    "\n",
    "print('\\nTotal games missing developer and publisher:', no_dev_or_pub.shape[0], '\\n')\n",
    "print_steam_links(no_dev_or_pub[:5])"
   ]
  },
  {
   "cell_type": "code",
   "execution_count": 125,
   "id": "e50b9a5c",
   "metadata": {},
   "outputs": [
    {
     "data": {
      "text/html": [
       "<div>\n",
       "<style scoped>\n",
       "    .dataframe tbody tr th:only-of-type {\n",
       "        vertical-align: middle;\n",
       "    }\n",
       "\n",
       "    .dataframe tbody tr th {\n",
       "        vertical-align: top;\n",
       "    }\n",
       "\n",
       "    .dataframe thead th {\n",
       "        text-align: right;\n",
       "    }\n",
       "</style>\n",
       "<table border=\"1\" class=\"dataframe\">\n",
       "  <thead>\n",
       "    <tr style=\"text-align: right;\">\n",
       "      <th></th>\n",
       "      <th>developers</th>\n",
       "      <th>publishers</th>\n",
       "    </tr>\n",
       "  </thead>\n",
       "  <tbody>\n",
       "    <tr>\n",
       "      <th>24</th>\n",
       "      <td>['Valve']</td>\n",
       "      <td>['Valve']</td>\n",
       "    </tr>\n",
       "    <tr>\n",
       "      <th>25</th>\n",
       "      <td>['Valve', 'Hidden Path Entertainment']</td>\n",
       "      <td>['Valve']</td>\n",
       "    </tr>\n",
       "    <tr>\n",
       "      <th>27</th>\n",
       "      <td>['Mark Healey']</td>\n",
       "      <td>['Mark Healey']</td>\n",
       "    </tr>\n",
       "    <tr>\n",
       "      <th>28</th>\n",
       "      <td>['Tripwire Interactive']</td>\n",
       "      <td>['Tripwire Interactive']</td>\n",
       "    </tr>\n",
       "  </tbody>\n",
       "</table>\n",
       "</div>"
      ],
      "text/plain": [
       "                                developers                publishers\n",
       "24                               ['Valve']                 ['Valve']\n",
       "25  ['Valve', 'Hidden Path Entertainment']                 ['Valve']\n",
       "27                         ['Mark Healey']           ['Mark Healey']\n",
       "28                ['Tripwire Interactive']  ['Tripwire Interactive']"
      ]
     },
     "execution_count": 125,
     "metadata": {},
     "output_type": "execute_result"
    }
   ],
   "source": [
    "language_df[['developers', 'publishers']].iloc[24:28]"
   ]
  },
  {
   "cell_type": "code",
   "execution_count": 126,
   "id": "3577cf36",
   "metadata": {},
   "outputs": [
    {
     "name": "stdout",
     "output_type": "stream",
     "text": [
      "Rows in developers column with multiple values: 1761\n",
      "Rows in publishers column with multiple values: 903\n"
     ]
    }
   ],
   "source": [
    "def process_developers_and_publishers(df):\n",
    "    # remove rows with missing data\n",
    "    df = df[(df['developers'].notnull()) & (df['publishers'] != \"['']\")].copy()\n",
    "    \n",
    "    for col in ['developers', 'publishers']:\n",
    "        df[col] = df[col].apply(lambda x: literal_eval(x))\n",
    "        \n",
    "        # filter dataframe to rows with lists longer than 1, and store the number of rows\n",
    "        num_rows = df[df[col].str.len() > 1].shape[0]\n",
    "        \n",
    "        print('Rows in {} column with multiple values:'.format(col), num_rows)\n",
    "\n",
    "process_developers_and_publishers(language_df)"
   ]
  },
  {
   "cell_type": "code",
   "execution_count": 127,
   "id": "064af1af",
   "metadata": {},
   "outputs": [
    {
     "data": {
      "text/html": [
       "<div>\n",
       "<style scoped>\n",
       "    .dataframe tbody tr th:only-of-type {\n",
       "        vertical-align: middle;\n",
       "    }\n",
       "\n",
       "    .dataframe tbody tr th {\n",
       "        vertical-align: top;\n",
       "    }\n",
       "\n",
       "    .dataframe thead th {\n",
       "        text-align: right;\n",
       "    }\n",
       "</style>\n",
       "<table border=\"1\" class=\"dataframe\">\n",
       "  <thead>\n",
       "    <tr style=\"text-align: right;\">\n",
       "      <th></th>\n",
       "      <th>steam_appid</th>\n",
       "      <th>developers</th>\n",
       "      <th>publishers</th>\n",
       "    </tr>\n",
       "  </thead>\n",
       "  <tbody>\n",
       "    <tr>\n",
       "      <th>25</th>\n",
       "      <td>730</td>\n",
       "      <td>['Valve', 'Hidden Path Entertainment']</td>\n",
       "      <td>['Valve']</td>\n",
       "    </tr>\n",
       "    <tr>\n",
       "      <th>66</th>\n",
       "      <td>2520</td>\n",
       "      <td>['CINEMAX, s.r.o.']</td>\n",
       "      <td>['CINEMAX, s.r.o.']</td>\n",
       "    </tr>\n",
       "    <tr>\n",
       "      <th>73</th>\n",
       "      <td>2630</td>\n",
       "      <td>['Infinity Ward', 'Aspyr (Mac)']</td>\n",
       "      <td>['Activision', 'Aspyr (Mac)']</td>\n",
       "    </tr>\n",
       "    <tr>\n",
       "      <th>75</th>\n",
       "      <td>2700</td>\n",
       "      <td>['Frontier', 'Aspyr (Mac)']</td>\n",
       "      <td>['Atari', 'Aspyr (Mac)']</td>\n",
       "    </tr>\n",
       "  </tbody>\n",
       "</table>\n",
       "</div>"
      ],
      "text/plain": [
       "    steam_appid                              developers  \\\n",
       "25          730  ['Valve', 'Hidden Path Entertainment']   \n",
       "66         2520                     ['CINEMAX, s.r.o.']   \n",
       "73         2630        ['Infinity Ward', 'Aspyr (Mac)']   \n",
       "75         2700             ['Frontier', 'Aspyr (Mac)']   \n",
       "\n",
       "                       publishers  \n",
       "25                      ['Valve']  \n",
       "66            ['CINEMAX, s.r.o.']  \n",
       "73  ['Activision', 'Aspyr (Mac)']  \n",
       "75       ['Atari', 'Aspyr (Mac)']  "
      ]
     },
     "execution_count": 127,
     "metadata": {},
     "output_type": "execute_result"
    }
   ],
   "source": [
    "language_df.loc[language_df['developers'].str.contains(\",\", na=False), ['steam_appid', 'developers', 'publishers']].head(4)"
   ]
  },
  {
   "cell_type": "code",
   "execution_count": 128,
   "id": "6a425f12",
   "metadata": {},
   "outputs": [
    {
     "data": {
      "text/html": [
       "<div>\n",
       "<style scoped>\n",
       "    .dataframe tbody tr th:only-of-type {\n",
       "        vertical-align: middle;\n",
       "    }\n",
       "\n",
       "    .dataframe tbody tr th {\n",
       "        vertical-align: top;\n",
       "    }\n",
       "\n",
       "    .dataframe thead th {\n",
       "        text-align: right;\n",
       "    }\n",
       "</style>\n",
       "<table border=\"1\" class=\"dataframe\">\n",
       "  <thead>\n",
       "    <tr style=\"text-align: right;\">\n",
       "      <th></th>\n",
       "      <th>steam_appid</th>\n",
       "      <th>developers</th>\n",
       "      <th>publishers</th>\n",
       "    </tr>\n",
       "  </thead>\n",
       "  <tbody>\n",
       "    <tr>\n",
       "      <th>9550</th>\n",
       "      <td>460210</td>\n",
       "      <td>['bool games;']</td>\n",
       "      <td>['bool games;']</td>\n",
       "    </tr>\n",
       "    <tr>\n",
       "      <th>13489</th>\n",
       "      <td>568480</td>\n",
       "      <td>[';)', 'Quickdraw Studios']</td>\n",
       "      <td>['Quickdraw Studios']</td>\n",
       "    </tr>\n",
       "    <tr>\n",
       "      <th>16871</th>\n",
       "      <td>665890</td>\n",
       "      <td>['Semicolon;']</td>\n",
       "      <td>['Semicolon;']</td>\n",
       "    </tr>\n",
       "  </tbody>\n",
       "</table>\n",
       "</div>"
      ],
      "text/plain": [
       "       steam_appid                   developers             publishers\n",
       "9550        460210              ['bool games;']        ['bool games;']\n",
       "13489       568480  [';)', 'Quickdraw Studios']  ['Quickdraw Studios']\n",
       "16871       665890               ['Semicolon;']         ['Semicolon;']"
      ]
     },
     "execution_count": 128,
     "metadata": {},
     "output_type": "execute_result"
    }
   ],
   "source": [
    "# Can use this for association rule mining\n",
    "language_df.loc[language_df['developers'].str.contains(\";\", na=False), ['steam_appid', 'developers', 'publishers']]"
   ]
  },
  {
   "cell_type": "code",
   "execution_count": 129,
   "id": "2779c6e4",
   "metadata": {},
   "outputs": [
    {
     "data": {
      "text/plain": [
       "12"
      ]
     },
     "execution_count": 129,
     "metadata": {},
     "output_type": "execute_result"
    }
   ],
   "source": [
    "language_df[(language_df['publishers'] == \"['NA']\") | (language_df['publishers'] == \"['N/A']\")].shape[0]"
   ]
  },
  {
   "cell_type": "code",
   "execution_count": 130,
   "id": "3befb6a4",
   "metadata": {},
   "outputs": [
    {
     "data": {
      "text/html": [
       "<div>\n",
       "<style scoped>\n",
       "    .dataframe tbody tr th:only-of-type {\n",
       "        vertical-align: middle;\n",
       "    }\n",
       "\n",
       "    .dataframe tbody tr th {\n",
       "        vertical-align: top;\n",
       "    }\n",
       "\n",
       "    .dataframe thead th {\n",
       "        text-align: right;\n",
       "    }\n",
       "</style>\n",
       "<table border=\"1\" class=\"dataframe\">\n",
       "  <thead>\n",
       "    <tr style=\"text-align: right;\">\n",
       "      <th></th>\n",
       "      <th>name</th>\n",
       "      <th>steam_appid</th>\n",
       "      <th>developer</th>\n",
       "      <th>publisher</th>\n",
       "    </tr>\n",
       "  </thead>\n",
       "  <tbody>\n",
       "    <tr>\n",
       "      <th>0</th>\n",
       "      <td>Counter-Strike</td>\n",
       "      <td>10</td>\n",
       "      <td>Valve</td>\n",
       "      <td>Valve</td>\n",
       "    </tr>\n",
       "    <tr>\n",
       "      <th>1</th>\n",
       "      <td>Team Fortress Classic</td>\n",
       "      <td>20</td>\n",
       "      <td>Valve</td>\n",
       "      <td>Valve</td>\n",
       "    </tr>\n",
       "    <tr>\n",
       "      <th>2</th>\n",
       "      <td>Day of Defeat</td>\n",
       "      <td>30</td>\n",
       "      <td>Valve</td>\n",
       "      <td>Valve</td>\n",
       "    </tr>\n",
       "    <tr>\n",
       "      <th>3</th>\n",
       "      <td>Deathmatch Classic</td>\n",
       "      <td>40</td>\n",
       "      <td>Valve</td>\n",
       "      <td>Valve</td>\n",
       "    </tr>\n",
       "    <tr>\n",
       "      <th>4</th>\n",
       "      <td>Half-Life: Opposing Force</td>\n",
       "      <td>50</td>\n",
       "      <td>Gearbox Software</td>\n",
       "      <td>Valve</td>\n",
       "    </tr>\n",
       "  </tbody>\n",
       "</table>\n",
       "</div>"
      ],
      "text/plain": [
       "                        name  steam_appid         developer publisher\n",
       "0             Counter-Strike           10             Valve     Valve\n",
       "1      Team Fortress Classic           20             Valve     Valve\n",
       "2              Day of Defeat           30             Valve     Valve\n",
       "3         Deathmatch Classic           40             Valve     Valve\n",
       "4  Half-Life: Opposing Force           50  Gearbox Software     Valve"
      ]
     },
     "execution_count": 130,
     "metadata": {},
     "output_type": "execute_result"
    }
   ],
   "source": [
    "def process_developers_and_publishers(df):\n",
    "    \"\"\"Parse columns as semicolon-separated string.\"\"\"\n",
    "    # remove rows with missing data (~ means not)\n",
    "    df = df[(df['developers'].notnull()) & (df['publishers'] != \"['']\")].copy()\n",
    "    df = df[~(df['developers'].str.contains(';')) & ~(df['publishers'].str.contains(';'))]\n",
    "    df = df[(df['publishers'] != \"['NA']\") & (df['publishers'] != \"['N/A']\")]\n",
    "    \n",
    "    # create list for each\n",
    "    df['developer'] = df['developers'].apply(lambda x: ';'.join(literal_eval(x)))\n",
    "    df['publisher'] = df['publishers'].apply(lambda x: ';'.join(literal_eval(x)))\n",
    "\n",
    "    df = df.drop(['developers', 'publishers'], axis=1)\n",
    "    \n",
    "    return df\n",
    "\n",
    "dev_pub_df = process_developers_and_publishers(language_df)\n",
    "dev_pub_df[['name', 'steam_appid', 'developer', 'publisher']].head()"
   ]
  },
  {
   "cell_type": "code",
   "execution_count": 131,
   "id": "914db126",
   "metadata": {},
   "outputs": [
    {
     "name": "stdout",
     "output_type": "stream",
     "text": [
      "Categories:\n",
      "\n",
      "Null values: 550\n",
      "\n",
      "[{'id': 1, 'description': 'Multi-player'}, {'id': 36, 'description': 'Online Multi-Player'}, {'id': 37, 'description': 'Local Multi-Player'}, {'id': 8, 'description': 'Valve Anti-Cheat enabled'}]\n",
      "\n",
      "Genres:\n",
      "\n",
      "Null values: 38\n",
      "\n",
      "[{'id': '1', 'description': 'Action'}]\n",
      "[{'id': '4', 'description': 'Casual'}]\n"
     ]
    }
   ],
   "source": [
    "print('Categories:\\n')\n",
    "print('Null values:', dev_pub_df['categories'].isnull().sum())\n",
    "print()\n",
    "print(dev_pub_df['categories'][0])\n",
    "\n",
    "print('\\nGenres:\\n')\n",
    "print('Null values:', dev_pub_df['genres'].isnull().sum())\n",
    "print()\n",
    "print(dev_pub_df['genres'].iloc[0])\n",
    "print(dev_pub_df['genres'].iloc[1000])"
   ]
  },
  {
   "cell_type": "code",
   "execution_count": 132,
   "id": "1f86691c",
   "metadata": {},
   "outputs": [
    {
     "data": {
      "text/html": [
       "<div>\n",
       "<style scoped>\n",
       "    .dataframe tbody tr th:only-of-type {\n",
       "        vertical-align: middle;\n",
       "    }\n",
       "\n",
       "    .dataframe tbody tr th {\n",
       "        vertical-align: top;\n",
       "    }\n",
       "\n",
       "    .dataframe thead th {\n",
       "        text-align: right;\n",
       "    }\n",
       "</style>\n",
       "<table border=\"1\" class=\"dataframe\">\n",
       "  <thead>\n",
       "    <tr style=\"text-align: right;\">\n",
       "      <th></th>\n",
       "      <th>steam_appid</th>\n",
       "      <th>categories</th>\n",
       "      <th>genres</th>\n",
       "    </tr>\n",
       "  </thead>\n",
       "  <tbody>\n",
       "    <tr>\n",
       "      <th>0</th>\n",
       "      <td>10</td>\n",
       "      <td>Multi-player;Online Multi-Player;Local Multi-P...</td>\n",
       "      <td>Action</td>\n",
       "    </tr>\n",
       "    <tr>\n",
       "      <th>1</th>\n",
       "      <td>20</td>\n",
       "      <td>Multi-player;Online Multi-Player;Local Multi-P...</td>\n",
       "      <td>Action</td>\n",
       "    </tr>\n",
       "    <tr>\n",
       "      <th>2</th>\n",
       "      <td>30</td>\n",
       "      <td>Multi-player;Valve Anti-Cheat enabled</td>\n",
       "      <td>Action</td>\n",
       "    </tr>\n",
       "    <tr>\n",
       "      <th>3</th>\n",
       "      <td>40</td>\n",
       "      <td>Multi-player;Online Multi-Player;Local Multi-P...</td>\n",
       "      <td>Action</td>\n",
       "    </tr>\n",
       "    <tr>\n",
       "      <th>4</th>\n",
       "      <td>50</td>\n",
       "      <td>Single-player;Multi-player;Valve Anti-Cheat en...</td>\n",
       "      <td>Action</td>\n",
       "    </tr>\n",
       "  </tbody>\n",
       "</table>\n",
       "</div>"
      ],
      "text/plain": [
       "   steam_appid                                         categories  genres\n",
       "0           10  Multi-player;Online Multi-Player;Local Multi-P...  Action\n",
       "1           20  Multi-player;Online Multi-Player;Local Multi-P...  Action\n",
       "2           30              Multi-player;Valve Anti-Cheat enabled  Action\n",
       "3           40  Multi-player;Online Multi-Player;Local Multi-P...  Action\n",
       "4           50  Single-player;Multi-player;Valve Anti-Cheat en...  Action"
      ]
     },
     "execution_count": 132,
     "metadata": {},
     "output_type": "execute_result"
    }
   ],
   "source": [
    "# Can use this for association rule mining\n",
    "def process_categories_and_genres(df):\n",
    "    df = df.copy()\n",
    "    df = df[(df['categories'].notnull()) & (df['genres'].notnull())]\n",
    "    \n",
    "    for col in ['categories', 'genres']:\n",
    "        df[col] = df[col].apply(lambda x: ';'.join(item['description'] for item in literal_eval(x)))\n",
    "    \n",
    "    return df\n",
    "\n",
    "cat_gen_df = process_categories_and_genres(dev_pub_df)\n",
    "cat_gen_df[['steam_appid', 'categories', 'genres']].head()"
   ]
  },
  {
   "cell_type": "code",
   "execution_count": 133,
   "id": "72bb590a",
   "metadata": {},
   "outputs": [
    {
     "name": "stdout",
     "output_type": "stream",
     "text": [
      "Achievements null counts: 2132\n"
     ]
    },
    {
     "data": {
      "text/html": [
       "<div>\n",
       "<style scoped>\n",
       "    .dataframe tbody tr th:only-of-type {\n",
       "        vertical-align: middle;\n",
       "    }\n",
       "\n",
       "    .dataframe tbody tr th {\n",
       "        vertical-align: top;\n",
       "    }\n",
       "\n",
       "    .dataframe thead th {\n",
       "        text-align: right;\n",
       "    }\n",
       "</style>\n",
       "<table border=\"1\" class=\"dataframe\">\n",
       "  <thead>\n",
       "    <tr style=\"text-align: right;\">\n",
       "      <th></th>\n",
       "      <th>name</th>\n",
       "      <th>achievements</th>\n",
       "    </tr>\n",
       "  </thead>\n",
       "  <tbody>\n",
       "    <tr>\n",
       "      <th>8</th>\n",
       "      <td>Half-Life: Blue Shift</td>\n",
       "      <td>{'total': 0}</td>\n",
       "    </tr>\n",
       "    <tr>\n",
       "      <th>9</th>\n",
       "      <td>Half-Life 2</td>\n",
       "      <td>{'total': 33, 'highlighted': [{'name': 'Defian...</td>\n",
       "    </tr>\n",
       "    <tr>\n",
       "      <th>10</th>\n",
       "      <td>Counter-Strike: Source</td>\n",
       "      <td>{'total': 147, 'highlighted': [{'name': 'Someo...</td>\n",
       "    </tr>\n",
       "    <tr>\n",
       "      <th>11</th>\n",
       "      <td>Half-Life: Source</td>\n",
       "      <td>{'total': 0}</td>\n",
       "    </tr>\n",
       "    <tr>\n",
       "      <th>12</th>\n",
       "      <td>Day of Defeat: Source</td>\n",
       "      <td>{'total': 54, 'highlighted': [{'name': 'Double...</td>\n",
       "    </tr>\n",
       "  </tbody>\n",
       "</table>\n",
       "</div>"
      ],
      "text/plain": [
       "                      name                                       achievements\n",
       "8    Half-Life: Blue Shift                                       {'total': 0}\n",
       "9              Half-Life 2  {'total': 33, 'highlighted': [{'name': 'Defian...\n",
       "10  Counter-Strike: Source  {'total': 147, 'highlighted': [{'name': 'Someo...\n",
       "11       Half-Life: Source                                       {'total': 0}\n",
       "12   Day of Defeat: Source  {'total': 54, 'highlighted': [{'name': 'Double..."
      ]
     },
     "execution_count": 133,
     "metadata": {},
     "output_type": "execute_result"
    }
   ],
   "source": [
    "print('Achievements null counts:', cat_gen_df['achievements'].isnull().sum())\n",
    "\n",
    "cat_gen_df[['name', 'achievements']].iloc[8:13]"
   ]
  },
  {
   "cell_type": "code",
   "execution_count": 134,
   "id": "a8107beb",
   "metadata": {},
   "outputs": [],
   "source": [
    "cat_gen_df.to_csv('cleaned_api_data.csv', index=False)"
   ]
  },
  {
   "cell_type": "code",
   "execution_count": 135,
   "id": "4c6ae50b",
   "metadata": {},
   "outputs": [
    {
     "name": "stdout",
     "output_type": "stream",
     "text": [
      "<class 'pandas.core.frame.DataFrame'>\n",
      "Int64Index: 28192 entries, 0 to 29234\n",
      "Data columns (total 20 columns):\n",
      " #   Column              Non-Null Count  Dtype   \n",
      "---  ------              --------------  -----   \n",
      " 0   name                28192 non-null  object  \n",
      " 1   steam_appid         28192 non-null  int64   \n",
      " 2   required_age        28192 non-null  category\n",
      " 3   controller_support  5934 non-null   object  \n",
      " 4   dlc                 4887 non-null   object  \n",
      " 5   website             18646 non-null  object  \n",
      " 6   pc_requirements     28192 non-null  object  \n",
      " 7   mac_requirements    28192 non-null  object  \n",
      " 8   linux_requirements  28192 non-null  object  \n",
      " 9   platforms           28192 non-null  object  \n",
      " 10  metacritic          2926 non-null   object  \n",
      " 11  categories          28192 non-null  object  \n",
      " 12  genres              28192 non-null  object  \n",
      " 13  screenshots         28179 non-null  object  \n",
      " 14  recommendations     6584 non-null   object  \n",
      " 15  achievements        26060 non-null  object  \n",
      " 16  price               28192 non-null  float64 \n",
      " 17  english             28192 non-null  int64   \n",
      " 18  developer           28192 non-null  object  \n",
      " 19  publisher           28192 non-null  object  \n",
      "dtypes: category(1), float64(1), int64(2), object(16)\n",
      "memory usage: 4.3+ MB\n"
     ]
    }
   ],
   "source": [
    "cat_gen_df.info()"
   ]
  },
  {
   "cell_type": "code",
   "execution_count": 136,
   "id": "1369a77d",
   "metadata": {
    "scrolled": true
   },
   "outputs": [
    {
     "data": {
      "text/plain": [
       "Choice of Games               94\n",
       "KOEI TECMO GAMES CO., LTD.    72\n",
       "Ripknot Systems               62\n",
       "Laush Dmitriy Sergeevich      53\n",
       "Nikita \"Ghost_RUS\"            50\n",
       "Dexion Games                  45\n",
       "Telltale Games                43\n",
       "Hosted Games                  43\n",
       "RewindApp                     43\n",
       "Blender Games                 40\n",
       "Name: developer, dtype: int64"
      ]
     },
     "execution_count": 136,
     "metadata": {},
     "output_type": "execute_result"
    }
   ],
   "source": [
    "dev_count = cat_gen_df['developer'].value_counts().head(10)\n",
    "dev_count"
   ]
  },
  {
   "cell_type": "code",
   "execution_count": 147,
   "id": "3fcd8151",
   "metadata": {},
   "outputs": [
    {
     "data": {
      "image/png": "[encoded data removed]",
      "text/plain": [
       "<Figure size 864x576 with 1 Axes>"
      ]
     },
     "metadata": {
      "needs_background": "light"
     },
     "output_type": "display_data"
    }
   ],
   "source": [
    "# Number of game published by developers\n",
    "plt.figure(figsize=(12, 8))\n",
    "sns.lineplot(x=dev_count.index, y=dev_count.values, marker='o')\n",
    "plt.xticks(rotation=45)\n",
    "plt.xlabel('Developers')\n",
    "plt.ylabel('Number of games')\n",
    "plt.title('Top 10 Developers')\n",
    "plt.show()"
   ]
  },
  {
   "cell_type": "code",
   "execution_count": 138,
   "id": "cdc6d9c2",
   "metadata": {},
   "outputs": [
    {
     "data": {
      "text/plain": [
       "Big Fish Games         231\n",
       "Strategy First         137\n",
       "Ubisoft                113\n",
       "THQ Nordic             104\n",
       "Square Enix             99\n",
       "Sekai Project           98\n",
       "Choice of Games         94\n",
       "1C Entertainment        91\n",
       "Dagestan Technology     90\n",
       "SEGA                    88\n",
       "Name: publisher, dtype: int64"
      ]
     },
     "execution_count": 138,
     "metadata": {},
     "output_type": "execute_result"
    }
   ],
   "source": [
    "pub_count = cat_gen_df['publisher'].value_counts().head(10)\n",
    "pub_count"
   ]
  },
  {
   "cell_type": "code",
   "execution_count": 150,
   "id": "9f03f58c",
   "metadata": {},
   "outputs": [
    {
     "data": {
      "image/png": "[encoded data removed]",
      "text/plain": [
       "<Figure size 1008x720 with 1 Axes>"
      ]
     },
     "metadata": {
      "needs_background": "light"
     },
     "output_type": "display_data"
    }
   ],
   "source": [
    "plt.figure(figsize=(14, 10))\n",
    "sns.barplot(x=pub_count.index, y=pub_count.values)\n",
    "plt.xticks(rotation=45)\n",
    "plt.xlabel('Publishers')\n",
    "plt.ylabel('Number of games')\n",
    "plt.title('Top 10 Publishers')\n",
    "plt.show()"
   ]
  },
  {
   "cell_type": "code",
   "execution_count": 140,
   "id": "0cbc021e",
   "metadata": {},
   "outputs": [
    {
     "data": {
      "text/html": [
       "<div>\n",
       "<style scoped>\n",
       "    .dataframe tbody tr th:only-of-type {\n",
       "        vertical-align: middle;\n",
       "    }\n",
       "\n",
       "    .dataframe tbody tr th {\n",
       "        vertical-align: top;\n",
       "    }\n",
       "\n",
       "    .dataframe thead th {\n",
       "        text-align: right;\n",
       "    }\n",
       "</style>\n",
       "<table border=\"1\" class=\"dataframe\">\n",
       "  <thead>\n",
       "    <tr style=\"text-align: right;\">\n",
       "      <th></th>\n",
       "      <th>Category</th>\n",
       "      <th>Count</th>\n",
       "    </tr>\n",
       "  </thead>\n",
       "  <tbody>\n",
       "    <tr>\n",
       "      <th>0</th>\n",
       "      <td>Single-player</td>\n",
       "      <td>6314</td>\n",
       "    </tr>\n",
       "    <tr>\n",
       "      <th>1</th>\n",
       "      <td>Single-player;Steam Achievements</td>\n",
       "      <td>2453</td>\n",
       "    </tr>\n",
       "    <tr>\n",
       "      <th>2</th>\n",
       "      <td>Single-player;Steam Achievements;Steam Trading...</td>\n",
       "      <td>860</td>\n",
       "    </tr>\n",
       "    <tr>\n",
       "      <th>3</th>\n",
       "      <td>Single-player;Partial Controller Support</td>\n",
       "      <td>838</td>\n",
       "    </tr>\n",
       "    <tr>\n",
       "      <th>4</th>\n",
       "      <td>Single-player;Steam Trading Cards</td>\n",
       "      <td>805</td>\n",
       "    </tr>\n",
       "    <tr>\n",
       "      <th>5</th>\n",
       "      <td>Single-player;Steam Achievements;Steam Cloud</td>\n",
       "      <td>679</td>\n",
       "    </tr>\n",
       "    <tr>\n",
       "      <th>6</th>\n",
       "      <td>Single-player;Steam Achievements;Steam Trading...</td>\n",
       "      <td>660</td>\n",
       "    </tr>\n",
       "    <tr>\n",
       "      <th>7</th>\n",
       "      <td>Single-player;Steam Achievements;Full controll...</td>\n",
       "      <td>596</td>\n",
       "    </tr>\n",
       "    <tr>\n",
       "      <th>8</th>\n",
       "      <td>Single-player;Full controller support</td>\n",
       "      <td>584</td>\n",
       "    </tr>\n",
       "    <tr>\n",
       "      <th>9</th>\n",
       "      <td>Single-player;Steam Achievements;Full controll...</td>\n",
       "      <td>513</td>\n",
       "    </tr>\n",
       "  </tbody>\n",
       "</table>\n",
       "</div>"
      ],
      "text/plain": [
       "                                            Category  Count\n",
       "0                                      Single-player   6314\n",
       "1                   Single-player;Steam Achievements   2453\n",
       "2  Single-player;Steam Achievements;Steam Trading...    860\n",
       "3           Single-player;Partial Controller Support    838\n",
       "4                  Single-player;Steam Trading Cards    805\n",
       "5       Single-player;Steam Achievements;Steam Cloud    679\n",
       "6  Single-player;Steam Achievements;Steam Trading...    660\n",
       "7  Single-player;Steam Achievements;Full controll...    596\n",
       "8              Single-player;Full controller support    584\n",
       "9  Single-player;Steam Achievements;Full controll...    513"
      ]
     },
     "execution_count": 140,
     "metadata": {},
     "output_type": "execute_result"
    }
   ],
   "source": [
    "cat_count = cat_gen_df['categories'].value_counts().head(10)\n",
    "cat_count\n",
    "\n",
    "#print(type(cat_count))\n",
    "cat_count = cat_count.reset_index(False)\n",
    "cat_count.columns = ['Category', 'Count']\n",
    "cat_count"
   ]
  },
  {
   "cell_type": "code",
   "execution_count": 155,
   "id": "42765ee4",
   "metadata": {},
   "outputs": [
    {
     "name": "stderr",
     "output_type": "stream",
     "text": [
      "C:\\Users\\prani\\anaconda3\\lib\\site-packages\\plotly\\express\\_core.py:1637: FutureWarning:\n",
      "\n",
      "The frame.append method is deprecated and will be removed from pandas in a future version. Use pandas.concat instead.\n",
      "\n"
     ]
    },
    {
     "data": {
      "application/vnd.plotly.v1+json": {
       "config": {
        "plotlyServerURL": "https://plot.ly"
       },
       "data": [
        {
         "branchvalues": "total",
         "customdata": [
          [
           6314
          ],
          [
           584
          ],
          [
           838
          ],
          [
           2453
          ],
          [
           513
          ],
          [
           596
          ],
          [
           679
          ],
          [
           860
          ],
          [
           660
          ],
          [
           805
          ]
         ],
         "domain": {
          "x": [
           0,
           1
          ],
          "y": [
           0,
           1
          ]
         },
         "hovertemplate": "labels=%{label}<br>Count_sum=%{value}<br>parent=%{parent}<br>id=%{id}<br>Count=%{color}<extra></extra>",
         "ids": [
          "Single-player",
          "Single-player;Full controller support",
          "Single-player;Partial Controller Support",
          "Single-player;Steam Achievements",
          "Single-player;Steam Achievements;Full controller support",
          "Single-player;Steam Achievements;Full controller support;Steam Trading Cards;Steam Cloud",
          "Single-player;Steam Achievements;Steam Cloud",
          "Single-player;Steam Achievements;Steam Trading Cards",
          "Single-player;Steam Achievements;Steam Trading Cards;Steam Cloud",
          "Single-player;Steam Trading Cards"
         ],
         "labels": [
          "Single-player",
          "Single-player;Full controller support",
          "Single-player;Partial Controller Support",
          "Single-player;Steam Achievements",
          "Single-player;Steam Achievements;Full controller support",
          "Single-player;Steam Achievements;Full controller support;Steam Trading Cards;Steam Cloud",
          "Single-player;Steam Achievements;Steam Cloud",
          "Single-player;Steam Achievements;Steam Trading Cards",
          "Single-player;Steam Achievements;Steam Trading Cards;Steam Cloud",
          "Single-player;Steam Trading Cards"
         ],
         "marker": {
          "coloraxis": "coloraxis",
          "colors": [
           6314,
           584,
           838,
           2453,
           513,
           596,
           679,
           860,
           660,
           805
          ]
         },
         "name": "",
         "parents": [
          "",
          "",
          "",
          "",
          "",
          "",
          "",
          "",
          "",
          ""
         ],
         "type": "treemap",
         "values": [
          6314,
          584,
          838,
          2453,
          513,
          596,
          679,
          860,
          660,
          805
         ]
        }
       ],
       "layout": {
        "coloraxis": {
         "colorbar": {
          "title": {
           "text": "Count"
          }
         },
         "colorscale": [
          [
           0,
           "#440154"
          ],
          [
           0.1111111111111111,
           "#482878"
          ],
          [
           0.2222222222222222,
           "#3e4989"
          ],
          [
           0.3333333333333333,
           "#31688e"
          ],
          [
           0.4444444444444444,
           "#26828e"
          ],
          [
           0.5555555555555556,
           "#1f9e89"
          ],
          [
           0.6666666666666666,
           "#35b779"
          ],
          [
           0.7777777777777778,
           "#6ece58"
          ],
          [
           0.8888888888888888,
           "#b5de2b"
          ],
          [
           1,
           "#fde725"
          ]
         ]
        },
        "height": 800,
        "legend": {
         "tracegroupgap": 0
        },
        "template": {
         "data": {
          "bar": [
           {
            "error_x": {
             "color": "#2a3f5f"
            },
            "error_y": {
             "color": "#2a3f5f"
            },
            "marker": {
             "line": {
              "color": "#E5ECF6",
              "width": 0.5
             },
             "pattern": {
              "fillmode": "overlay",
              "size": 10,
              "solidity": 0.2
             }
            },
            "type": "bar"
           }
          ],
          "barpolar": [
           {
            "marker": {
             "line": {
              "color": "#E5ECF6",
              "width": 0.5
             },
             "pattern": {
              "fillmode": "overlay",
              "size": 10,
              "solidity": 0.2
             }
            },
            "type": "barpolar"
           }
          ],
          "carpet": [
           {
            "aaxis": {
             "endlinecolor": "#2a3f5f",
             "gridcolor": "white",
             "linecolor": "white",
             "minorgridcolor": "white",
             "startlinecolor": "#2a3f5f"
            },
            "baxis": {
             "endlinecolor": "#2a3f5f",
             "gridcolor": "white",
             "linecolor": "white",
             "minorgridcolor": "white",
             "startlinecolor": "#2a3f5f"
            },
            "type": "carpet"
           }
          ],
          "choropleth": [
           {
            "colorbar": {
             "outlinewidth": 0,
             "ticks": ""
            },
            "type": "choropleth"
           }
          ],
          "contour": [
           {
            "colorbar": {
             "outlinewidth": 0,
             "ticks": ""
            },
            "colorscale": [
             [
              0,
              "#0d0887"
             ],
             [
              0.1111111111111111,
              "#46039f"
             ],
             [
              0.2222222222222222,
              "#7201a8"
             ],
             [
              0.3333333333333333,
              "#9c179e"
             ],
             [
              0.4444444444444444,
              "#bd3786"
             ],
             [
              0.5555555555555556,
              "#d8576b"
             ],
             [
              0.6666666666666666,
              "#ed7953"
             ],
             [
              0.7777777777777778,
              "#fb9f3a"
             ],
             [
              0.8888888888888888,
              "#fdca26"
             ],
             [
              1,
              "#f0f921"
             ]
            ],
            "type": "contour"
           }
          ],
          "contourcarpet": [
           {
            "colorbar": {
             "outlinewidth": 0,
             "ticks": ""
            },
            "type": "contourcarpet"
           }
          ],
          "heatmap": [
           {
            "colorbar": {
             "outlinewidth": 0,
             "ticks": ""
            },
            "colorscale": [
             [
              0,
              "#0d0887"
             ],
             [
              0.1111111111111111,
              "#46039f"
             ],
             [
              0.2222222222222222,
              "#7201a8"
             ],
             [
              0.3333333333333333,
              "#9c179e"
             ],
             [
              0.4444444444444444,
              "#bd3786"
             ],
             [
              0.5555555555555556,
              "#d8576b"
             ],
             [
              0.6666666666666666,
              "#ed7953"
             ],
             [
              0.7777777777777778,
              "#fb9f3a"
             ],
             [
              0.8888888888888888,
              "#fdca26"
             ],
             [
              1,
              "#f0f921"
             ]
            ],
            "type": "heatmap"
           }
          ],
          "heatmapgl": [
           {
            "colorbar": {
             "outlinewidth": 0,
             "ticks": ""
            },
            "colorscale": [
             [
              0,
              "#0d0887"
             ],
             [
              0.1111111111111111,
              "#46039f"
             ],
             [
              0.2222222222222222,
              "#7201a8"
             ],
             [
              0.3333333333333333,
              "#9c179e"
             ],
             [
              0.4444444444444444,
              "#bd3786"
             ],
             [
              0.5555555555555556,
              "#d8576b"
             ],
             [
              0.6666666666666666,
              "#ed7953"
             ],
             [
              0.7777777777777778,
              "#fb9f3a"
             ],
             [
              0.8888888888888888,
              "#fdca26"
             ],
             [
              1,
              "#f0f921"
             ]
            ],
            "type": "heatmapgl"
           }
          ],
          "histogram": [
           {
            "marker": {
             "pattern": {
              "fillmode": "overlay",
              "size": 10,
              "solidity": 0.2
             }
            },
            "type": "histogram"
           }
          ],
          "histogram2d": [
           {
            "colorbar": {
             "outlinewidth": 0,
             "ticks": ""
            },
            "colorscale": [
             [
              0,
              "#0d0887"
             ],
             [
              0.1111111111111111,
              "#46039f"
             ],
             [
              0.2222222222222222,
              "#7201a8"
             ],
             [
              0.3333333333333333,
              "#9c179e"
             ],
             [
              0.4444444444444444,
              "#bd3786"
             ],
             [
              0.5555555555555556,
              "#d8576b"
             ],
             [
              0.6666666666666666,
              "#ed7953"
             ],
             [
              0.7777777777777778,
              "#fb9f3a"
             ],
             [
              0.8888888888888888,
              "#fdca26"
             ],
             [
              1,
              "#f0f921"
             ]
            ],
            "type": "histogram2d"
           }
          ],
          "histogram2dcontour": [
           {
            "colorbar": {
             "outlinewidth": 0,
             "ticks": ""
            },
            "colorscale": [
             [
              0,
              "#0d0887"
             ],
             [
              0.1111111111111111,
              "#46039f"
             ],
             [
              0.2222222222222222,
              "#7201a8"
             ],
             [
              0.3333333333333333,
              "#9c179e"
             ],
             [
              0.4444444444444444,
              "#bd3786"
             ],
             [
              0.5555555555555556,
              "#d8576b"
             ],
             [
              0.6666666666666666,
              "#ed7953"
             ],
             [
              0.7777777777777778,
              "#fb9f3a"
             ],
             [
              0.8888888888888888,
              "#fdca26"
             ],
             [
              1,
              "#f0f921"
             ]
            ],
            "type": "histogram2dcontour"
           }
          ],
          "mesh3d": [
           {
            "colorbar": {
             "outlinewidth": 0,
             "ticks": ""
            },
            "type": "mesh3d"
           }
          ],
          "parcoords": [
           {
            "line": {
             "colorbar": {
              "outlinewidth": 0,
              "ticks": ""
             }
            },
            "type": "parcoords"
           }
          ],
          "pie": [
           {
            "automargin": true,
            "type": "pie"
           }
          ],
          "scatter": [
           {
            "marker": {
             "colorbar": {
              "outlinewidth": 0,
              "ticks": ""
             }
            },
            "type": "scatter"
           }
          ],
          "scatter3d": [
           {
            "line": {
             "colorbar": {
              "outlinewidth": 0,
              "ticks": ""
             }
            },
            "marker": {
             "colorbar": {
              "outlinewidth": 0,
              "ticks": ""
             }
            },
            "type": "scatter3d"
           }
          ],
          "scattercarpet": [
           {
            "marker": {
             "colorbar": {
              "outlinewidth": 0,
              "ticks": ""
             }
            },
            "type": "scattercarpet"
           }
          ],
          "scattergeo": [
           {
            "marker": {
             "colorbar": {
              "outlinewidth": 0,
              "ticks": ""
             }
            },
            "type": "scattergeo"
           }
          ],
          "scattergl": [
           {
            "marker": {
             "colorbar": {
              "outlinewidth": 0,
              "ticks": ""
             }
            },
            "type": "scattergl"
           }
          ],
          "scattermapbox": [
           {
            "marker": {
             "colorbar": {
              "outlinewidth": 0,
              "ticks": ""
             }
            },
            "type": "scattermapbox"
           }
          ],
          "scatterpolar": [
           {
            "marker": {
             "colorbar": {
              "outlinewidth": 0,
              "ticks": ""
             }
            },
            "type": "scatterpolar"
           }
          ],
          "scatterpolargl": [
           {
            "marker": {
             "colorbar": {
              "outlinewidth": 0,
              "ticks": ""
             }
            },
            "type": "scatterpolargl"
           }
          ],
          "scatterternary": [
           {
            "marker": {
             "colorbar": {
              "outlinewidth": 0,
              "ticks": ""
             }
            },
            "type": "scatterternary"
           }
          ],
          "surface": [
           {
            "colorbar": {
             "outlinewidth": 0,
             "ticks": ""
            },
            "colorscale": [
             [
              0,
              "#0d0887"
             ],
             [
              0.1111111111111111,
              "#46039f"
             ],
             [
              0.2222222222222222,
              "#7201a8"
             ],
             [
              0.3333333333333333,
              "#9c179e"
             ],
             [
              0.4444444444444444,
              "#bd3786"
             ],
             [
              0.5555555555555556,
              "#d8576b"
             ],
             [
              0.6666666666666666,
              "#ed7953"
             ],
             [
              0.7777777777777778,
              "#fb9f3a"
             ],
             [
              0.8888888888888888,
              "#fdca26"
             ],
             [
              1,
              "#f0f921"
             ]
            ],
            "type": "surface"
           }
          ],
          "table": [
           {
            "cells": {
             "fill": {
              "color": "#EBF0F8"
             },
             "line": {
              "color": "white"
             }
            },
            "header": {
             "fill": {
              "color": "#C8D4E3"
             },
             "line": {
              "color": "white"
             }
            },
            "type": "table"
           }
          ]
         },
         "layout": {
          "annotationdefaults": {
           "arrowcolor": "#2a3f5f",
           "arrowhead": 0,
           "arrowwidth": 1
          },
          "autotypenumbers": "strict",
          "coloraxis": {
           "colorbar": {
            "outlinewidth": 0,
            "ticks": ""
           }
          },
          "colorscale": {
           "diverging": [
            [
             0,
             "#8e0152"
            ],
            [
             0.1,
             "#c51b7d"
            ],
            [
             0.2,
             "#de77ae"
            ],
            [
             0.3,
             "#f1b6da"
            ],
            [
             0.4,
             "#fde0ef"
            ],
            [
             0.5,
             "#f7f7f7"
            ],
            [
             0.6,
             "#e6f5d0"
            ],
            [
             0.7,
             "#b8e186"
            ],
            [
             0.8,
             "#7fbc41"
            ],
            [
             0.9,
             "#4d9221"
            ],
            [
             1,
             "#276419"
            ]
           ],
           "sequential": [
            [
             0,
             "#0d0887"
            ],
            [
             0.1111111111111111,
             "#46039f"
            ],
            [
             0.2222222222222222,
             "#7201a8"
            ],
            [
             0.3333333333333333,
             "#9c179e"
            ],
            [
             0.4444444444444444,
             "#bd3786"
            ],
            [
             0.5555555555555556,
             "#d8576b"
            ],
            [
             0.6666666666666666,
             "#ed7953"
            ],
            [
             0.7777777777777778,
             "#fb9f3a"
            ],
            [
             0.8888888888888888,
             "#fdca26"
            ],
            [
             1,
             "#f0f921"
            ]
           ],
           "sequentialminus": [
            [
             0,
             "#0d0887"
            ],
            [
             0.1111111111111111,
             "#46039f"
            ],
            [
             0.2222222222222222,
             "#7201a8"
            ],
            [
             0.3333333333333333,
             "#9c179e"
            ],
            [
             0.4444444444444444,
             "#bd3786"
            ],
            [
             0.5555555555555556,
             "#d8576b"
            ],
            [
             0.6666666666666666,
             "#ed7953"
            ],
            [
             0.7777777777777778,
             "#fb9f3a"
            ],
            [
             0.8888888888888888,
             "#fdca26"
            ],
            [
             1,
             "#f0f921"
            ]
           ]
          },
          "colorway": [
           "#636efa",
           "#EF553B",
           "#00cc96",
           "#ab63fa",
           "#FFA15A",
           "#19d3f3",
           "#FF6692",
           "#B6E880",
           "#FF97FF",
           "#FECB52"
          ],
          "font": {
           "color": "#2a3f5f"
          },
          "geo": {
           "bgcolor": "white",
           "lakecolor": "white",
           "landcolor": "#E5ECF6",
           "showlakes": true,
           "showland": true,
           "subunitcolor": "white"
          },
          "hoverlabel": {
           "align": "left"
          },
          "hovermode": "closest",
          "mapbox": {
           "style": "light"
          },
          "paper_bgcolor": "white",
          "plot_bgcolor": "#E5ECF6",
          "polar": {
           "angularaxis": {
            "gridcolor": "white",
            "linecolor": "white",
            "ticks": ""
           },
           "bgcolor": "#E5ECF6",
           "radialaxis": {
            "gridcolor": "white",
            "linecolor": "white",
            "ticks": ""
           }
          },
          "scene": {
           "xaxis": {
            "backgroundcolor": "#E5ECF6",
            "gridcolor": "white",
            "gridwidth": 2,
            "linecolor": "white",
            "showbackground": true,
            "ticks": "",
            "zerolinecolor": "white"
           },
           "yaxis": {
            "backgroundcolor": "#E5ECF6",
            "gridcolor": "white",
            "gridwidth": 2,
            "linecolor": "white",
            "showbackground": true,
            "ticks": "",
            "zerolinecolor": "white"
           },
           "zaxis": {
            "backgroundcolor": "#E5ECF6",
            "gridcolor": "white",
            "gridwidth": 2,
            "linecolor": "white",
            "showbackground": true,
            "ticks": "",
            "zerolinecolor": "white"
           }
          },
          "shapedefaults": {
           "line": {
            "color": "#2a3f5f"
           }
          },
          "ternary": {
           "aaxis": {
            "gridcolor": "white",
            "linecolor": "white",
            "ticks": ""
           },
           "baxis": {
            "gridcolor": "white",
            "linecolor": "white",
            "ticks": ""
           },
           "bgcolor": "#E5ECF6",
           "caxis": {
            "gridcolor": "white",
            "linecolor": "white",
            "ticks": ""
           }
          },
          "title": {
           "x": 0.05
          },
          "xaxis": {
           "automargin": true,
           "gridcolor": "white",
           "linecolor": "white",
           "ticks": "",
           "title": {
            "standoff": 15
           },
           "zerolinecolor": "white",
           "zerolinewidth": 2
          },
          "yaxis": {
           "automargin": true,
           "gridcolor": "white",
           "linecolor": "white",
           "ticks": "",
           "title": {
            "standoff": 15
           },
           "zerolinecolor": "white",
           "zerolinewidth": 2
          }
         }
        },
        "title": {
         "text": "Treemap of Top 10 Game Categories"
        },
        "width": 1000
       }
      },
      "text/html": [
       "<div>                            <div id=\"bc13914a-49f3-4427-b38f-07101498b0a4\" class=\"plotly-graph-div\" style=\"height:800px; width:1000px;\"></div>            <script type=\"text/javascript\">                require([\"plotly\"], function(Plotly) {                    window.PLOTLYENV=window.PLOTLYENV || {};                                    if (document.getElementById(\"bc13914a-49f3-4427-b38f-07101498b0a4\")) {                    Plotly.newPlot(                        \"bc13914a-49f3-4427-b38f-07101498b0a4\",                        [{\"branchvalues\":\"total\",\"customdata\":[[6314.0],[584.0],[838.0],[2453.0],[513.0],[596.0],[679.0],[860.0],[660.0],[805.0]],\"domain\":{\"x\":[0.0,1.0],\"y\":[0.0,1.0]},\"hovertemplate\":\"labels=%{label}<br>Count_sum=%{value}<br>parent=%{parent}<br>id=%{id}<br>Count=%{color}<extra></extra>\",\"ids\":[\"Single-player\",\"Single-player;Full controller support\",\"Single-player;Partial Controller Support\",\"Single-player;Steam Achievements\",\"Single-player;Steam Achievements;Full controller support\",\"Single-player;Steam Achievements;Full controller support;Steam Trading Cards;Steam Cloud\",\"Single-player;Steam Achievements;Steam Cloud\",\"Single-player;Steam Achievements;Steam Trading Cards\",\"Single-player;Steam Achievements;Steam Trading Cards;Steam Cloud\",\"Single-player;Steam Trading Cards\"],\"labels\":[\"Single-player\",\"Single-player;Full controller support\",\"Single-player;Partial Controller Support\",\"Single-player;Steam Achievements\",\"Single-player;Steam Achievements;Full controller support\",\"Single-player;Steam Achievements;Full controller support;Steam Trading Cards;Steam Cloud\",\"Single-player;Steam Achievements;Steam Cloud\",\"Single-player;Steam Achievements;Steam Trading Cards\",\"Single-player;Steam Achievements;Steam Trading Cards;Steam Cloud\",\"Single-player;Steam Trading Cards\"],\"marker\":{\"coloraxis\":\"coloraxis\",\"colors\":[6314.0,584.0,838.0,2453.0,513.0,596.0,679.0,860.0,660.0,805.0]},\"name\":\"\",\"parents\":[\"\",\"\",\"\",\"\",\"\",\"\",\"\",\"\",\"\",\"\"],\"values\":[6314,584,838,2453,513,596,679,860,660,805],\"type\":\"treemap\"}],                        {\"template\":{\"data\":{\"bar\":[{\"error_x\":{\"color\":\"#2a3f5f\"},\"error_y\":{\"color\":\"#2a3f5f\"},\"marker\":{\"line\":{\"color\":\"#E5ECF6\",\"width\":0.5},\"pattern\":{\"fillmode\":\"overlay\",\"size\":10,\"solidity\":0.2}},\"type\":\"bar\"}],\"barpolar\":[{\"marker\":{\"line\":{\"color\":\"#E5ECF6\",\"width\":0.5},\"pattern\":{\"fillmode\":\"overlay\",\"size\":10,\"solidity\":0.2}},\"type\":\"barpolar\"}],\"carpet\":[{\"aaxis\":{\"endlinecolor\":\"#2a3f5f\",\"gridcolor\":\"white\",\"linecolor\":\"white\",\"minorgridcolor\":\"white\",\"startlinecolor\":\"#2a3f5f\"},\"baxis\":{\"endlinecolor\":\"#2a3f5f\",\"gridcolor\":\"white\",\"linecolor\":\"white\",\"minorgridcolor\":\"white\",\"startlinecolor\":\"#2a3f5f\"},\"type\":\"carpet\"}],\"choropleth\":[{\"colorbar\":{\"outlinewidth\":0,\"ticks\":\"\"},\"type\":\"choropleth\"}],\"contour\":[{\"colorbar\":{\"outlinewidth\":0,\"ticks\":\"\"},\"colorscale\":[[0.0,\"#0d0887\"],[0.1111111111111111,\"#46039f\"],[0.2222222222222222,\"#7201a8\"],[0.3333333333333333,\"#9c179e\"],[0.4444444444444444,\"#bd3786\"],[0.5555555555555556,\"#d8576b\"],[0.6666666666666666,\"#ed7953\"],[0.7777777777777778,\"#fb9f3a\"],[0.8888888888888888,\"#fdca26\"],[1.0,\"#f0f921\"]],\"type\":\"contour\"}],\"contourcarpet\":[{\"colorbar\":{\"outlinewidth\":0,\"ticks\":\"\"},\"type\":\"contourcarpet\"}],\"heatmap\":[{\"colorbar\":{\"outlinewidth\":0,\"ticks\":\"\"},\"colorscale\":[[0.0,\"#0d0887\"],[0.1111111111111111,\"#46039f\"],[0.2222222222222222,\"#7201a8\"],[0.3333333333333333,\"#9c179e\"],[0.4444444444444444,\"#bd3786\"],[0.5555555555555556,\"#d8576b\"],[0.6666666666666666,\"#ed7953\"],[0.7777777777777778,\"#fb9f3a\"],[0.8888888888888888,\"#fdca26\"],[1.0,\"#f0f921\"]],\"type\":\"heatmap\"}],\"heatmapgl\":[{\"colorbar\":{\"outlinewidth\":0,\"ticks\":\"\"},\"colorscale\":[[0.0,\"#0d0887\"],[0.1111111111111111,\"#46039f\"],[0.2222222222222222,\"#7201a8\"],[0.3333333333333333,\"#9c179e\"],[0.4444444444444444,\"#bd3786\"],[0.5555555555555556,\"#d8576b\"],[0.6666666666666666,\"#ed7953\"],[0.7777777777777778,\"#fb9f3a\"],[0.8888888888888888,\"#fdca26\"],[1.0,\"#f0f921\"]],\"type\":\"heatmapgl\"}],\"histogram\":[{\"marker\":{\"pattern\":{\"fillmode\":\"overlay\",\"size\":10,\"solidity\":0.2}},\"type\":\"histogram\"}],\"histogram2d\":[{\"colorbar\":{\"outlinewidth\":0,\"ticks\":\"\"},\"colorscale\":[[0.0,\"#0d0887\"],[0.1111111111111111,\"#46039f\"],[0.2222222222222222,\"#7201a8\"],[0.3333333333333333,\"#9c179e\"],[0.4444444444444444,\"#bd3786\"],[0.5555555555555556,\"#d8576b\"],[0.6666666666666666,\"#ed7953\"],[0.7777777777777778,\"#fb9f3a\"],[0.8888888888888888,\"#fdca26\"],[1.0,\"#f0f921\"]],\"type\":\"histogram2d\"}],\"histogram2dcontour\":[{\"colorbar\":{\"outlinewidth\":0,\"ticks\":\"\"},\"colorscale\":[[0.0,\"#0d0887\"],[0.1111111111111111,\"#46039f\"],[0.2222222222222222,\"#7201a8\"],[0.3333333333333333,\"#9c179e\"],[0.4444444444444444,\"#bd3786\"],[0.5555555555555556,\"#d8576b\"],[0.6666666666666666,\"#ed7953\"],[0.7777777777777778,\"#fb9f3a\"],[0.8888888888888888,\"#fdca26\"],[1.0,\"#f0f921\"]],\"type\":\"histogram2dcontour\"}],\"mesh3d\":[{\"colorbar\":{\"outlinewidth\":0,\"ticks\":\"\"},\"type\":\"mesh3d\"}],\"parcoords\":[{\"line\":{\"colorbar\":{\"outlinewidth\":0,\"ticks\":\"\"}},\"type\":\"parcoords\"}],\"pie\":[{\"automargin\":true,\"type\":\"pie\"}],\"scatter\":[{\"marker\":{\"colorbar\":{\"outlinewidth\":0,\"ticks\":\"\"}},\"type\":\"scatter\"}],\"scatter3d\":[{\"line\":{\"colorbar\":{\"outlinewidth\":0,\"ticks\":\"\"}},\"marker\":{\"colorbar\":{\"outlinewidth\":0,\"ticks\":\"\"}},\"type\":\"scatter3d\"}],\"scattercarpet\":[{\"marker\":{\"colorbar\":{\"outlinewidth\":0,\"ticks\":\"\"}},\"type\":\"scattercarpet\"}],\"scattergeo\":[{\"marker\":{\"colorbar\":{\"outlinewidth\":0,\"ticks\":\"\"}},\"type\":\"scattergeo\"}],\"scattergl\":[{\"marker\":{\"colorbar\":{\"outlinewidth\":0,\"ticks\":\"\"}},\"type\":\"scattergl\"}],\"scattermapbox\":[{\"marker\":{\"colorbar\":{\"outlinewidth\":0,\"ticks\":\"\"}},\"type\":\"scattermapbox\"}],\"scatterpolar\":[{\"marker\":{\"colorbar\":{\"outlinewidth\":0,\"ticks\":\"\"}},\"type\":\"scatterpolar\"}],\"scatterpolargl\":[{\"marker\":{\"colorbar\":{\"outlinewidth\":0,\"ticks\":\"\"}},\"type\":\"scatterpolargl\"}],\"scatterternary\":[{\"marker\":{\"colorbar\":{\"outlinewidth\":0,\"ticks\":\"\"}},\"type\":\"scatterternary\"}],\"surface\":[{\"colorbar\":{\"outlinewidth\":0,\"ticks\":\"\"},\"colorscale\":[[0.0,\"#0d0887\"],[0.1111111111111111,\"#46039f\"],[0.2222222222222222,\"#7201a8\"],[0.3333333333333333,\"#9c179e\"],[0.4444444444444444,\"#bd3786\"],[0.5555555555555556,\"#d8576b\"],[0.6666666666666666,\"#ed7953\"],[0.7777777777777778,\"#fb9f3a\"],[0.8888888888888888,\"#fdca26\"],[1.0,\"#f0f921\"]],\"type\":\"surface\"}],\"table\":[{\"cells\":{\"fill\":{\"color\":\"#EBF0F8\"},\"line\":{\"color\":\"white\"}},\"header\":{\"fill\":{\"color\":\"#C8D4E3\"},\"line\":{\"color\":\"white\"}},\"type\":\"table\"}]},\"layout\":{\"annotationdefaults\":{\"arrowcolor\":\"#2a3f5f\",\"arrowhead\":0,\"arrowwidth\":1},\"autotypenumbers\":\"strict\",\"coloraxis\":{\"colorbar\":{\"outlinewidth\":0,\"ticks\":\"\"}},\"colorscale\":{\"diverging\":[[0,\"#8e0152\"],[0.1,\"#c51b7d\"],[0.2,\"#de77ae\"],[0.3,\"#f1b6da\"],[0.4,\"#fde0ef\"],[0.5,\"#f7f7f7\"],[0.6,\"#e6f5d0\"],[0.7,\"#b8e186\"],[0.8,\"#7fbc41\"],[0.9,\"#4d9221\"],[1,\"#276419\"]],\"sequential\":[[0.0,\"#0d0887\"],[0.1111111111111111,\"#46039f\"],[0.2222222222222222,\"#7201a8\"],[0.3333333333333333,\"#9c179e\"],[0.4444444444444444,\"#bd3786\"],[0.5555555555555556,\"#d8576b\"],[0.6666666666666666,\"#ed7953\"],[0.7777777777777778,\"#fb9f3a\"],[0.8888888888888888,\"#fdca26\"],[1.0,\"#f0f921\"]],\"sequentialminus\":[[0.0,\"#0d0887\"],[0.1111111111111111,\"#46039f\"],[0.2222222222222222,\"#7201a8\"],[0.3333333333333333,\"#9c179e\"],[0.4444444444444444,\"#bd3786\"],[0.5555555555555556,\"#d8576b\"],[0.6666666666666666,\"#ed7953\"],[0.7777777777777778,\"#fb9f3a\"],[0.8888888888888888,\"#fdca26\"],[1.0,\"#f0f921\"]]},\"colorway\":[\"#636efa\",\"#EF553B\",\"#00cc96\",\"#ab63fa\",\"#FFA15A\",\"#19d3f3\",\"#FF6692\",\"#B6E880\",\"#FF97FF\",\"#FECB52\"],\"font\":{\"color\":\"#2a3f5f\"},\"geo\":{\"bgcolor\":\"white\",\"lakecolor\":\"white\",\"landcolor\":\"#E5ECF6\",\"showlakes\":true,\"showland\":true,\"subunitcolor\":\"white\"},\"hoverlabel\":{\"align\":\"left\"},\"hovermode\":\"closest\",\"mapbox\":{\"style\":\"light\"},\"paper_bgcolor\":\"white\",\"plot_bgcolor\":\"#E5ECF6\",\"polar\":{\"angularaxis\":{\"gridcolor\":\"white\",\"linecolor\":\"white\",\"ticks\":\"\"},\"bgcolor\":\"#E5ECF6\",\"radialaxis\":{\"gridcolor\":\"white\",\"linecolor\":\"white\",\"ticks\":\"\"}},\"scene\":{\"xaxis\":{\"backgroundcolor\":\"#E5ECF6\",\"gridcolor\":\"white\",\"gridwidth\":2,\"linecolor\":\"white\",\"showbackground\":true,\"ticks\":\"\",\"zerolinecolor\":\"white\"},\"yaxis\":{\"backgroundcolor\":\"#E5ECF6\",\"gridcolor\":\"white\",\"gridwidth\":2,\"linecolor\":\"white\",\"showbackground\":true,\"ticks\":\"\",\"zerolinecolor\":\"white\"},\"zaxis\":{\"backgroundcolor\":\"#E5ECF6\",\"gridcolor\":\"white\",\"gridwidth\":2,\"linecolor\":\"white\",\"showbackground\":true,\"ticks\":\"\",\"zerolinecolor\":\"white\"}},\"shapedefaults\":{\"line\":{\"color\":\"#2a3f5f\"}},\"ternary\":{\"aaxis\":{\"gridcolor\":\"white\",\"linecolor\":\"white\",\"ticks\":\"\"},\"baxis\":{\"gridcolor\":\"white\",\"linecolor\":\"white\",\"ticks\":\"\"},\"bgcolor\":\"#E5ECF6\",\"caxis\":{\"gridcolor\":\"white\",\"linecolor\":\"white\",\"ticks\":\"\"}},\"title\":{\"x\":0.05},\"xaxis\":{\"automargin\":true,\"gridcolor\":\"white\",\"linecolor\":\"white\",\"ticks\":\"\",\"title\":{\"standoff\":15},\"zerolinecolor\":\"white\",\"zerolinewidth\":2},\"yaxis\":{\"automargin\":true,\"gridcolor\":\"white\",\"linecolor\":\"white\",\"ticks\":\"\",\"title\":{\"standoff\":15},\"zerolinecolor\":\"white\",\"zerolinewidth\":2}}},\"coloraxis\":{\"colorbar\":{\"title\":{\"text\":\"Count\"}},\"colorscale\":[[0.0,\"#440154\"],[0.1111111111111111,\"#482878\"],[0.2222222222222222,\"#3e4989\"],[0.3333333333333333,\"#31688e\"],[0.4444444444444444,\"#26828e\"],[0.5555555555555556,\"#1f9e89\"],[0.6666666666666666,\"#35b779\"],[0.7777777777777778,\"#6ece58\"],[0.8888888888888888,\"#b5de2b\"],[1.0,\"#fde725\"]]},\"legend\":{\"tracegroupgap\":0},\"title\":{\"text\":\"Treemap of Top 10 Game Categories\"},\"width\":1000,\"height\":800},                        {\"responsive\": true}                    ).then(function(){\n",
       "                            \n",
       "var gd = document.getElementById('bc13914a-49f3-4427-b38f-07101498b0a4');\n",
       "var x = new MutationObserver(function (mutations, observer) {{\n",
       "        var display = window.getComputedStyle(gd).display;\n",
       "        if (!display || display === 'none') {{\n",
       "            console.log([gd, 'removed!']);\n",
       "            Plotly.purge(gd);\n",
       "            observer.disconnect();\n",
       "        }}\n",
       "}});\n",
       "\n",
       "// Listen for the removal of the full notebook cells\n",
       "var notebookContainer = gd.closest('#notebook-container');\n",
       "if (notebookContainer) {{\n",
       "    x.observe(notebookContainer, {childList: true});\n",
       "}}\n",
       "\n",
       "// Listen for the clearing of the current output cell\n",
       "var outputEl = gd.closest('.output');\n",
       "if (outputEl) {{\n",
       "    x.observe(outputEl, {childList: true});\n",
       "}}\n",
       "\n",
       "                        })                };                });            </script>        </div>"
      ]
     },
     "metadata": {},
     "output_type": "display_data"
    }
   ],
   "source": [
    "import plotly.express as px\n",
    "fig = px.treemap(cat_count, path=['Category'], values='Count',\n",
    "                 title='Treemap of Top 10 Game Categories',\n",
    "                 color='Count', color_continuous_scale='viridis')\n",
    "fig.update_layout(width=1000, height=800)\n",
    "fig.show()"
   ]
  },
  {
   "cell_type": "code",
   "execution_count": null,
   "id": "78e4792e",
   "metadata": {},
   "outputs": [],
   "source": []
  },
  {
   "cell_type": "code",
   "execution_count": null,
   "id": "dbfb4dd8",
   "metadata": {},
   "outputs": [],
   "source": []
  }
 ],
 "metadata": {
  "kernelspec": {
   "display_name": "Python 3 (ipykernel)",
   "language": "python",
   "name": "python3"
  },
  "language_info": {
   "codemirror_mode": {
    "name": "ipython",
    "version": 3
   },
   "file_extension": ".py",
   "mimetype": "text/x-python",
   "name": "python",
   "nbconvert_exporter": "python",
   "pygments_lexer": "ipython3",
   "version": "3.9.12"
  }
 },
 "nbformat": 4,
 "nbformat_minor": 5
}
